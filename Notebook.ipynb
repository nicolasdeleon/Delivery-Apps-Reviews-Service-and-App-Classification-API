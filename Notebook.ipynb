{
  "nbformat": 4,
  "nbformat_minor": 0,
  "metadata": {
    "colab": {
      "name": "Primer-clasificador-categorical.ipynb",
      "provenance": [],
      "collapsed_sections": [],
      "toc_visible": true
    },
    "kernelspec": {
      "name": "python3",
      "display_name": "Python 3"
    },
    "accelerator": "GPU",
    "widgets": {
      "application/vnd.jupyter.widget-state+json": {
        "c157c5502d9c44c286bf50c372601fe3": {
          "model_module": "@jupyter-widgets/controls",
          "model_name": "HBoxModel",
          "state": {
            "_view_name": "HBoxView",
            "_dom_classes": [],
            "_model_name": "HBoxModel",
            "_view_module": "@jupyter-widgets/controls",
            "_model_module_version": "1.5.0",
            "_view_count": null,
            "_view_module_version": "1.5.0",
            "box_style": "",
            "layout": "IPY_MODEL_ad332bbea23b4e8f9ad2e63f2675a8eb",
            "_model_module": "@jupyter-widgets/controls",
            "children": [
              "IPY_MODEL_5175444982d64cbcbcf1ca7e82e3d370",
              "IPY_MODEL_cac2b3424e0a48f69d7b29222f0f3cb6"
            ]
          }
        },
        "ad332bbea23b4e8f9ad2e63f2675a8eb": {
          "model_module": "@jupyter-widgets/base",
          "model_name": "LayoutModel",
          "state": {
            "_view_name": "LayoutView",
            "grid_template_rows": null,
            "right": null,
            "justify_content": null,
            "_view_module": "@jupyter-widgets/base",
            "overflow": null,
            "_model_module_version": "1.2.0",
            "_view_count": null,
            "flex_flow": null,
            "width": null,
            "min_width": null,
            "border": null,
            "align_items": null,
            "bottom": null,
            "_model_module": "@jupyter-widgets/base",
            "top": null,
            "grid_column": null,
            "overflow_y": null,
            "overflow_x": null,
            "grid_auto_flow": null,
            "grid_area": null,
            "grid_template_columns": null,
            "flex": null,
            "_model_name": "LayoutModel",
            "justify_items": null,
            "grid_row": null,
            "max_height": null,
            "align_content": null,
            "visibility": null,
            "align_self": null,
            "height": null,
            "min_height": null,
            "padding": null,
            "grid_auto_rows": null,
            "grid_gap": null,
            "max_width": null,
            "order": null,
            "_view_module_version": "1.2.0",
            "grid_template_areas": null,
            "object_position": null,
            "object_fit": null,
            "grid_auto_columns": null,
            "margin": null,
            "display": null,
            "left": null
          }
        },
        "5175444982d64cbcbcf1ca7e82e3d370": {
          "model_module": "@jupyter-widgets/controls",
          "model_name": "FloatProgressModel",
          "state": {
            "_view_name": "ProgressView",
            "style": "IPY_MODEL_8072dcf5f06b4452b4ef6c52432c6303",
            "_dom_classes": [],
            "description": "Downloading: 100%",
            "_model_name": "FloatProgressModel",
            "bar_style": "success",
            "max": 242120,
            "_view_module": "@jupyter-widgets/controls",
            "_model_module_version": "1.5.0",
            "value": 242120,
            "_view_count": null,
            "_view_module_version": "1.5.0",
            "orientation": "horizontal",
            "min": 0,
            "description_tooltip": null,
            "_model_module": "@jupyter-widgets/controls",
            "layout": "IPY_MODEL_ced0c8a0974a4fb9bbf964fea1b41570"
          }
        },
        "cac2b3424e0a48f69d7b29222f0f3cb6": {
          "model_module": "@jupyter-widgets/controls",
          "model_name": "HTMLModel",
          "state": {
            "_view_name": "HTMLView",
            "style": "IPY_MODEL_36246842ebe149488e929f6dc11b46c7",
            "_dom_classes": [],
            "description": "",
            "_model_name": "HTMLModel",
            "placeholder": "​",
            "_view_module": "@jupyter-widgets/controls",
            "_model_module_version": "1.5.0",
            "value": " 242k/242k [00:00&lt;00:00, 2.18MB/s]",
            "_view_count": null,
            "_view_module_version": "1.5.0",
            "description_tooltip": null,
            "_model_module": "@jupyter-widgets/controls",
            "layout": "IPY_MODEL_9f15c4e00b334ee7ad1b442dfa01a4ab"
          }
        },
        "8072dcf5f06b4452b4ef6c52432c6303": {
          "model_module": "@jupyter-widgets/controls",
          "model_name": "ProgressStyleModel",
          "state": {
            "_view_name": "StyleView",
            "_model_name": "ProgressStyleModel",
            "description_width": "initial",
            "_view_module": "@jupyter-widgets/base",
            "_model_module_version": "1.5.0",
            "_view_count": null,
            "_view_module_version": "1.2.0",
            "bar_color": null,
            "_model_module": "@jupyter-widgets/controls"
          }
        },
        "ced0c8a0974a4fb9bbf964fea1b41570": {
          "model_module": "@jupyter-widgets/base",
          "model_name": "LayoutModel",
          "state": {
            "_view_name": "LayoutView",
            "grid_template_rows": null,
            "right": null,
            "justify_content": null,
            "_view_module": "@jupyter-widgets/base",
            "overflow": null,
            "_model_module_version": "1.2.0",
            "_view_count": null,
            "flex_flow": null,
            "width": null,
            "min_width": null,
            "border": null,
            "align_items": null,
            "bottom": null,
            "_model_module": "@jupyter-widgets/base",
            "top": null,
            "grid_column": null,
            "overflow_y": null,
            "overflow_x": null,
            "grid_auto_flow": null,
            "grid_area": null,
            "grid_template_columns": null,
            "flex": null,
            "_model_name": "LayoutModel",
            "justify_items": null,
            "grid_row": null,
            "max_height": null,
            "align_content": null,
            "visibility": null,
            "align_self": null,
            "height": null,
            "min_height": null,
            "padding": null,
            "grid_auto_rows": null,
            "grid_gap": null,
            "max_width": null,
            "order": null,
            "_view_module_version": "1.2.0",
            "grid_template_areas": null,
            "object_position": null,
            "object_fit": null,
            "grid_auto_columns": null,
            "margin": null,
            "display": null,
            "left": null
          }
        },
        "36246842ebe149488e929f6dc11b46c7": {
          "model_module": "@jupyter-widgets/controls",
          "model_name": "DescriptionStyleModel",
          "state": {
            "_view_name": "StyleView",
            "_model_name": "DescriptionStyleModel",
            "description_width": "",
            "_view_module": "@jupyter-widgets/base",
            "_model_module_version": "1.5.0",
            "_view_count": null,
            "_view_module_version": "1.2.0",
            "_model_module": "@jupyter-widgets/controls"
          }
        },
        "9f15c4e00b334ee7ad1b442dfa01a4ab": {
          "model_module": "@jupyter-widgets/base",
          "model_name": "LayoutModel",
          "state": {
            "_view_name": "LayoutView",
            "grid_template_rows": null,
            "right": null,
            "justify_content": null,
            "_view_module": "@jupyter-widgets/base",
            "overflow": null,
            "_model_module_version": "1.2.0",
            "_view_count": null,
            "flex_flow": null,
            "width": null,
            "min_width": null,
            "border": null,
            "align_items": null,
            "bottom": null,
            "_model_module": "@jupyter-widgets/base",
            "top": null,
            "grid_column": null,
            "overflow_y": null,
            "overflow_x": null,
            "grid_auto_flow": null,
            "grid_area": null,
            "grid_template_columns": null,
            "flex": null,
            "_model_name": "LayoutModel",
            "justify_items": null,
            "grid_row": null,
            "max_height": null,
            "align_content": null,
            "visibility": null,
            "align_self": null,
            "height": null,
            "min_height": null,
            "padding": null,
            "grid_auto_rows": null,
            "grid_gap": null,
            "max_width": null,
            "order": null,
            "_view_module_version": "1.2.0",
            "grid_template_areas": null,
            "object_position": null,
            "object_fit": null,
            "grid_auto_columns": null,
            "margin": null,
            "display": null,
            "left": null
          }
        },
        "9183302efab74f99af40e69ed828c0f1": {
          "model_module": "@jupyter-widgets/controls",
          "model_name": "HBoxModel",
          "state": {
            "_view_name": "HBoxView",
            "_dom_classes": [],
            "_model_name": "HBoxModel",
            "_view_module": "@jupyter-widgets/controls",
            "_model_module_version": "1.5.0",
            "_view_count": null,
            "_view_module_version": "1.5.0",
            "box_style": "",
            "layout": "IPY_MODEL_ae545fce66b2446ba7060dc2ee52d3f6",
            "_model_module": "@jupyter-widgets/controls",
            "children": [
              "IPY_MODEL_38bc2f988d144a21ad0545b75df99b3f",
              "IPY_MODEL_6c4e0edc356a46d687538bd938bd6f7d"
            ]
          }
        },
        "ae545fce66b2446ba7060dc2ee52d3f6": {
          "model_module": "@jupyter-widgets/base",
          "model_name": "LayoutModel",
          "state": {
            "_view_name": "LayoutView",
            "grid_template_rows": null,
            "right": null,
            "justify_content": null,
            "_view_module": "@jupyter-widgets/base",
            "overflow": null,
            "_model_module_version": "1.2.0",
            "_view_count": null,
            "flex_flow": null,
            "width": null,
            "min_width": null,
            "border": null,
            "align_items": null,
            "bottom": null,
            "_model_module": "@jupyter-widgets/base",
            "top": null,
            "grid_column": null,
            "overflow_y": null,
            "overflow_x": null,
            "grid_auto_flow": null,
            "grid_area": null,
            "grid_template_columns": null,
            "flex": null,
            "_model_name": "LayoutModel",
            "justify_items": null,
            "grid_row": null,
            "max_height": null,
            "align_content": null,
            "visibility": null,
            "align_self": null,
            "height": null,
            "min_height": null,
            "padding": null,
            "grid_auto_rows": null,
            "grid_gap": null,
            "max_width": null,
            "order": null,
            "_view_module_version": "1.2.0",
            "grid_template_areas": null,
            "object_position": null,
            "object_fit": null,
            "grid_auto_columns": null,
            "margin": null,
            "display": null,
            "left": null
          }
        },
        "38bc2f988d144a21ad0545b75df99b3f": {
          "model_module": "@jupyter-widgets/controls",
          "model_name": "FloatProgressModel",
          "state": {
            "_view_name": "ProgressView",
            "style": "IPY_MODEL_0bdaad8aca3b48f3beed54d3915d6c57",
            "_dom_classes": [],
            "description": "Downloading: 100%",
            "_model_name": "FloatProgressModel",
            "bar_style": "success",
            "max": 2,
            "_view_module": "@jupyter-widgets/controls",
            "_model_module_version": "1.5.0",
            "value": 2,
            "_view_count": null,
            "_view_module_version": "1.5.0",
            "orientation": "horizontal",
            "min": 0,
            "description_tooltip": null,
            "_model_module": "@jupyter-widgets/controls",
            "layout": "IPY_MODEL_87e1d5bdbcf046cb8189c263e90eb5a1"
          }
        },
        "6c4e0edc356a46d687538bd938bd6f7d": {
          "model_module": "@jupyter-widgets/controls",
          "model_name": "HTMLModel",
          "state": {
            "_view_name": "HTMLView",
            "style": "IPY_MODEL_65b41f02d2e24a36a09eba8019db5ace",
            "_dom_classes": [],
            "description": "",
            "_model_name": "HTMLModel",
            "placeholder": "​",
            "_view_module": "@jupyter-widgets/controls",
            "_model_module_version": "1.5.0",
            "value": " 2.00/2.00 [00:00&lt;00:00, 5.55B/s]",
            "_view_count": null,
            "_view_module_version": "1.5.0",
            "description_tooltip": null,
            "_model_module": "@jupyter-widgets/controls",
            "layout": "IPY_MODEL_572c2088c1574f089325f4437a8c851b"
          }
        },
        "0bdaad8aca3b48f3beed54d3915d6c57": {
          "model_module": "@jupyter-widgets/controls",
          "model_name": "ProgressStyleModel",
          "state": {
            "_view_name": "StyleView",
            "_model_name": "ProgressStyleModel",
            "description_width": "initial",
            "_view_module": "@jupyter-widgets/base",
            "_model_module_version": "1.5.0",
            "_view_count": null,
            "_view_module_version": "1.2.0",
            "bar_color": null,
            "_model_module": "@jupyter-widgets/controls"
          }
        },
        "87e1d5bdbcf046cb8189c263e90eb5a1": {
          "model_module": "@jupyter-widgets/base",
          "model_name": "LayoutModel",
          "state": {
            "_view_name": "LayoutView",
            "grid_template_rows": null,
            "right": null,
            "justify_content": null,
            "_view_module": "@jupyter-widgets/base",
            "overflow": null,
            "_model_module_version": "1.2.0",
            "_view_count": null,
            "flex_flow": null,
            "width": null,
            "min_width": null,
            "border": null,
            "align_items": null,
            "bottom": null,
            "_model_module": "@jupyter-widgets/base",
            "top": null,
            "grid_column": null,
            "overflow_y": null,
            "overflow_x": null,
            "grid_auto_flow": null,
            "grid_area": null,
            "grid_template_columns": null,
            "flex": null,
            "_model_name": "LayoutModel",
            "justify_items": null,
            "grid_row": null,
            "max_height": null,
            "align_content": null,
            "visibility": null,
            "align_self": null,
            "height": null,
            "min_height": null,
            "padding": null,
            "grid_auto_rows": null,
            "grid_gap": null,
            "max_width": null,
            "order": null,
            "_view_module_version": "1.2.0",
            "grid_template_areas": null,
            "object_position": null,
            "object_fit": null,
            "grid_auto_columns": null,
            "margin": null,
            "display": null,
            "left": null
          }
        },
        "65b41f02d2e24a36a09eba8019db5ace": {
          "model_module": "@jupyter-widgets/controls",
          "model_name": "DescriptionStyleModel",
          "state": {
            "_view_name": "StyleView",
            "_model_name": "DescriptionStyleModel",
            "description_width": "",
            "_view_module": "@jupyter-widgets/base",
            "_model_module_version": "1.5.0",
            "_view_count": null,
            "_view_module_version": "1.2.0",
            "_model_module": "@jupyter-widgets/controls"
          }
        },
        "572c2088c1574f089325f4437a8c851b": {
          "model_module": "@jupyter-widgets/base",
          "model_name": "LayoutModel",
          "state": {
            "_view_name": "LayoutView",
            "grid_template_rows": null,
            "right": null,
            "justify_content": null,
            "_view_module": "@jupyter-widgets/base",
            "overflow": null,
            "_model_module_version": "1.2.0",
            "_view_count": null,
            "flex_flow": null,
            "width": null,
            "min_width": null,
            "border": null,
            "align_items": null,
            "bottom": null,
            "_model_module": "@jupyter-widgets/base",
            "top": null,
            "grid_column": null,
            "overflow_y": null,
            "overflow_x": null,
            "grid_auto_flow": null,
            "grid_area": null,
            "grid_template_columns": null,
            "flex": null,
            "_model_name": "LayoutModel",
            "justify_items": null,
            "grid_row": null,
            "max_height": null,
            "align_content": null,
            "visibility": null,
            "align_self": null,
            "height": null,
            "min_height": null,
            "padding": null,
            "grid_auto_rows": null,
            "grid_gap": null,
            "max_width": null,
            "order": null,
            "_view_module_version": "1.2.0",
            "grid_template_areas": null,
            "object_position": null,
            "object_fit": null,
            "grid_auto_columns": null,
            "margin": null,
            "display": null,
            "left": null
          }
        },
        "1e7f435033d347bbb7cba3b046a26ed7": {
          "model_module": "@jupyter-widgets/controls",
          "model_name": "HBoxModel",
          "state": {
            "_view_name": "HBoxView",
            "_dom_classes": [],
            "_model_name": "HBoxModel",
            "_view_module": "@jupyter-widgets/controls",
            "_model_module_version": "1.5.0",
            "_view_count": null,
            "_view_module_version": "1.5.0",
            "box_style": "",
            "layout": "IPY_MODEL_f58287486a4447958235c3e2c3941d1c",
            "_model_module": "@jupyter-widgets/controls",
            "children": [
              "IPY_MODEL_8afbf9015d8c4a08821cbaeac8c83d88",
              "IPY_MODEL_632112f66f3340d18aae3d9f2a29c4ce"
            ]
          }
        },
        "f58287486a4447958235c3e2c3941d1c": {
          "model_module": "@jupyter-widgets/base",
          "model_name": "LayoutModel",
          "state": {
            "_view_name": "LayoutView",
            "grid_template_rows": null,
            "right": null,
            "justify_content": null,
            "_view_module": "@jupyter-widgets/base",
            "overflow": null,
            "_model_module_version": "1.2.0",
            "_view_count": null,
            "flex_flow": null,
            "width": null,
            "min_width": null,
            "border": null,
            "align_items": null,
            "bottom": null,
            "_model_module": "@jupyter-widgets/base",
            "top": null,
            "grid_column": null,
            "overflow_y": null,
            "overflow_x": null,
            "grid_auto_flow": null,
            "grid_area": null,
            "grid_template_columns": null,
            "flex": null,
            "_model_name": "LayoutModel",
            "justify_items": null,
            "grid_row": null,
            "max_height": null,
            "align_content": null,
            "visibility": null,
            "align_self": null,
            "height": null,
            "min_height": null,
            "padding": null,
            "grid_auto_rows": null,
            "grid_gap": null,
            "max_width": null,
            "order": null,
            "_view_module_version": "1.2.0",
            "grid_template_areas": null,
            "object_position": null,
            "object_fit": null,
            "grid_auto_columns": null,
            "margin": null,
            "display": null,
            "left": null
          }
        },
        "8afbf9015d8c4a08821cbaeac8c83d88": {
          "model_module": "@jupyter-widgets/controls",
          "model_name": "FloatProgressModel",
          "state": {
            "_view_name": "ProgressView",
            "style": "IPY_MODEL_9914f0dc67f447fbb6dddeb26d8fe6af",
            "_dom_classes": [],
            "description": "Downloading: 100%",
            "_model_name": "FloatProgressModel",
            "bar_style": "success",
            "max": 112,
            "_view_module": "@jupyter-widgets/controls",
            "_model_module_version": "1.5.0",
            "value": 112,
            "_view_count": null,
            "_view_module_version": "1.5.0",
            "orientation": "horizontal",
            "min": 0,
            "description_tooltip": null,
            "_model_module": "@jupyter-widgets/controls",
            "layout": "IPY_MODEL_da8ce7f1e1894da292fd3faa5b5b7a15"
          }
        },
        "632112f66f3340d18aae3d9f2a29c4ce": {
          "model_module": "@jupyter-widgets/controls",
          "model_name": "HTMLModel",
          "state": {
            "_view_name": "HTMLView",
            "style": "IPY_MODEL_c472079e18174899b01a5e02456e2f70",
            "_dom_classes": [],
            "description": "",
            "_model_name": "HTMLModel",
            "placeholder": "​",
            "_view_module": "@jupyter-widgets/controls",
            "_model_module_version": "1.5.0",
            "value": " 112/112 [00:00&lt;00:00, 662B/s]",
            "_view_count": null,
            "_view_module_version": "1.5.0",
            "description_tooltip": null,
            "_model_module": "@jupyter-widgets/controls",
            "layout": "IPY_MODEL_3a347fb798d443b8a7b9ce56b96f020c"
          }
        },
        "9914f0dc67f447fbb6dddeb26d8fe6af": {
          "model_module": "@jupyter-widgets/controls",
          "model_name": "ProgressStyleModel",
          "state": {
            "_view_name": "StyleView",
            "_model_name": "ProgressStyleModel",
            "description_width": "initial",
            "_view_module": "@jupyter-widgets/base",
            "_model_module_version": "1.5.0",
            "_view_count": null,
            "_view_module_version": "1.2.0",
            "bar_color": null,
            "_model_module": "@jupyter-widgets/controls"
          }
        },
        "da8ce7f1e1894da292fd3faa5b5b7a15": {
          "model_module": "@jupyter-widgets/base",
          "model_name": "LayoutModel",
          "state": {
            "_view_name": "LayoutView",
            "grid_template_rows": null,
            "right": null,
            "justify_content": null,
            "_view_module": "@jupyter-widgets/base",
            "overflow": null,
            "_model_module_version": "1.2.0",
            "_view_count": null,
            "flex_flow": null,
            "width": null,
            "min_width": null,
            "border": null,
            "align_items": null,
            "bottom": null,
            "_model_module": "@jupyter-widgets/base",
            "top": null,
            "grid_column": null,
            "overflow_y": null,
            "overflow_x": null,
            "grid_auto_flow": null,
            "grid_area": null,
            "grid_template_columns": null,
            "flex": null,
            "_model_name": "LayoutModel",
            "justify_items": null,
            "grid_row": null,
            "max_height": null,
            "align_content": null,
            "visibility": null,
            "align_self": null,
            "height": null,
            "min_height": null,
            "padding": null,
            "grid_auto_rows": null,
            "grid_gap": null,
            "max_width": null,
            "order": null,
            "_view_module_version": "1.2.0",
            "grid_template_areas": null,
            "object_position": null,
            "object_fit": null,
            "grid_auto_columns": null,
            "margin": null,
            "display": null,
            "left": null
          }
        },
        "c472079e18174899b01a5e02456e2f70": {
          "model_module": "@jupyter-widgets/controls",
          "model_name": "DescriptionStyleModel",
          "state": {
            "_view_name": "StyleView",
            "_model_name": "DescriptionStyleModel",
            "description_width": "",
            "_view_module": "@jupyter-widgets/base",
            "_model_module_version": "1.5.0",
            "_view_count": null,
            "_view_module_version": "1.2.0",
            "_model_module": "@jupyter-widgets/controls"
          }
        },
        "3a347fb798d443b8a7b9ce56b96f020c": {
          "model_module": "@jupyter-widgets/base",
          "model_name": "LayoutModel",
          "state": {
            "_view_name": "LayoutView",
            "grid_template_rows": null,
            "right": null,
            "justify_content": null,
            "_view_module": "@jupyter-widgets/base",
            "overflow": null,
            "_model_module_version": "1.2.0",
            "_view_count": null,
            "flex_flow": null,
            "width": null,
            "min_width": null,
            "border": null,
            "align_items": null,
            "bottom": null,
            "_model_module": "@jupyter-widgets/base",
            "top": null,
            "grid_column": null,
            "overflow_y": null,
            "overflow_x": null,
            "grid_auto_flow": null,
            "grid_area": null,
            "grid_template_columns": null,
            "flex": null,
            "_model_name": "LayoutModel",
            "justify_items": null,
            "grid_row": null,
            "max_height": null,
            "align_content": null,
            "visibility": null,
            "align_self": null,
            "height": null,
            "min_height": null,
            "padding": null,
            "grid_auto_rows": null,
            "grid_gap": null,
            "max_width": null,
            "order": null,
            "_view_module_version": "1.2.0",
            "grid_template_areas": null,
            "object_position": null,
            "object_fit": null,
            "grid_auto_columns": null,
            "margin": null,
            "display": null,
            "left": null
          }
        },
        "bc1564f20eaf4e90b6a434c4f5f009a1": {
          "model_module": "@jupyter-widgets/controls",
          "model_name": "HBoxModel",
          "state": {
            "_view_name": "HBoxView",
            "_dom_classes": [],
            "_model_name": "HBoxModel",
            "_view_module": "@jupyter-widgets/controls",
            "_model_module_version": "1.5.0",
            "_view_count": null,
            "_view_module_version": "1.5.0",
            "box_style": "",
            "layout": "IPY_MODEL_976be058115a4f17b0df4f5c53875e07",
            "_model_module": "@jupyter-widgets/controls",
            "children": [
              "IPY_MODEL_875f9f7dc92a439eb48a2ef237c42447",
              "IPY_MODEL_785d8bc2115e4c87b2484ea9237c559d"
            ]
          }
        },
        "976be058115a4f17b0df4f5c53875e07": {
          "model_module": "@jupyter-widgets/base",
          "model_name": "LayoutModel",
          "state": {
            "_view_name": "LayoutView",
            "grid_template_rows": null,
            "right": null,
            "justify_content": null,
            "_view_module": "@jupyter-widgets/base",
            "overflow": null,
            "_model_module_version": "1.2.0",
            "_view_count": null,
            "flex_flow": null,
            "width": null,
            "min_width": null,
            "border": null,
            "align_items": null,
            "bottom": null,
            "_model_module": "@jupyter-widgets/base",
            "top": null,
            "grid_column": null,
            "overflow_y": null,
            "overflow_x": null,
            "grid_auto_flow": null,
            "grid_area": null,
            "grid_template_columns": null,
            "flex": null,
            "_model_name": "LayoutModel",
            "justify_items": null,
            "grid_row": null,
            "max_height": null,
            "align_content": null,
            "visibility": null,
            "align_self": null,
            "height": null,
            "min_height": null,
            "padding": null,
            "grid_auto_rows": null,
            "grid_gap": null,
            "max_width": null,
            "order": null,
            "_view_module_version": "1.2.0",
            "grid_template_areas": null,
            "object_position": null,
            "object_fit": null,
            "grid_auto_columns": null,
            "margin": null,
            "display": null,
            "left": null
          }
        },
        "875f9f7dc92a439eb48a2ef237c42447": {
          "model_module": "@jupyter-widgets/controls",
          "model_name": "FloatProgressModel",
          "state": {
            "_view_name": "ProgressView",
            "style": "IPY_MODEL_18ead515168b4ff8b7856857379539c4",
            "_dom_classes": [],
            "description": "Downloading: 100%",
            "_model_name": "FloatProgressModel",
            "bar_style": "success",
            "max": 43,
            "_view_module": "@jupyter-widgets/controls",
            "_model_module_version": "1.5.0",
            "value": 43,
            "_view_count": null,
            "_view_module_version": "1.5.0",
            "orientation": "horizontal",
            "min": 0,
            "description_tooltip": null,
            "_model_module": "@jupyter-widgets/controls",
            "layout": "IPY_MODEL_a28c093f9bdc435f8101e4f80f4cc12f"
          }
        },
        "785d8bc2115e4c87b2484ea9237c559d": {
          "model_module": "@jupyter-widgets/controls",
          "model_name": "HTMLModel",
          "state": {
            "_view_name": "HTMLView",
            "style": "IPY_MODEL_b7664ba83875431db1b3f1397fc6a2a3",
            "_dom_classes": [],
            "description": "",
            "_model_name": "HTMLModel",
            "placeholder": "​",
            "_view_module": "@jupyter-widgets/controls",
            "_model_module_version": "1.5.0",
            "value": " 43.0/43.0 [00:00&lt;00:00, 511B/s]",
            "_view_count": null,
            "_view_module_version": "1.5.0",
            "description_tooltip": null,
            "_model_module": "@jupyter-widgets/controls",
            "layout": "IPY_MODEL_2086927d423348bd912118420c88e371"
          }
        },
        "18ead515168b4ff8b7856857379539c4": {
          "model_module": "@jupyter-widgets/controls",
          "model_name": "ProgressStyleModel",
          "state": {
            "_view_name": "StyleView",
            "_model_name": "ProgressStyleModel",
            "description_width": "initial",
            "_view_module": "@jupyter-widgets/base",
            "_model_module_version": "1.5.0",
            "_view_count": null,
            "_view_module_version": "1.2.0",
            "bar_color": null,
            "_model_module": "@jupyter-widgets/controls"
          }
        },
        "a28c093f9bdc435f8101e4f80f4cc12f": {
          "model_module": "@jupyter-widgets/base",
          "model_name": "LayoutModel",
          "state": {
            "_view_name": "LayoutView",
            "grid_template_rows": null,
            "right": null,
            "justify_content": null,
            "_view_module": "@jupyter-widgets/base",
            "overflow": null,
            "_model_module_version": "1.2.0",
            "_view_count": null,
            "flex_flow": null,
            "width": null,
            "min_width": null,
            "border": null,
            "align_items": null,
            "bottom": null,
            "_model_module": "@jupyter-widgets/base",
            "top": null,
            "grid_column": null,
            "overflow_y": null,
            "overflow_x": null,
            "grid_auto_flow": null,
            "grid_area": null,
            "grid_template_columns": null,
            "flex": null,
            "_model_name": "LayoutModel",
            "justify_items": null,
            "grid_row": null,
            "max_height": null,
            "align_content": null,
            "visibility": null,
            "align_self": null,
            "height": null,
            "min_height": null,
            "padding": null,
            "grid_auto_rows": null,
            "grid_gap": null,
            "max_width": null,
            "order": null,
            "_view_module_version": "1.2.0",
            "grid_template_areas": null,
            "object_position": null,
            "object_fit": null,
            "grid_auto_columns": null,
            "margin": null,
            "display": null,
            "left": null
          }
        },
        "b7664ba83875431db1b3f1397fc6a2a3": {
          "model_module": "@jupyter-widgets/controls",
          "model_name": "DescriptionStyleModel",
          "state": {
            "_view_name": "StyleView",
            "_model_name": "DescriptionStyleModel",
            "description_width": "",
            "_view_module": "@jupyter-widgets/base",
            "_model_module_version": "1.5.0",
            "_view_count": null,
            "_view_module_version": "1.2.0",
            "_model_module": "@jupyter-widgets/controls"
          }
        },
        "2086927d423348bd912118420c88e371": {
          "model_module": "@jupyter-widgets/base",
          "model_name": "LayoutModel",
          "state": {
            "_view_name": "LayoutView",
            "grid_template_rows": null,
            "right": null,
            "justify_content": null,
            "_view_module": "@jupyter-widgets/base",
            "overflow": null,
            "_model_module_version": "1.2.0",
            "_view_count": null,
            "flex_flow": null,
            "width": null,
            "min_width": null,
            "border": null,
            "align_items": null,
            "bottom": null,
            "_model_module": "@jupyter-widgets/base",
            "top": null,
            "grid_column": null,
            "overflow_y": null,
            "overflow_x": null,
            "grid_auto_flow": null,
            "grid_area": null,
            "grid_template_columns": null,
            "flex": null,
            "_model_name": "LayoutModel",
            "justify_items": null,
            "grid_row": null,
            "max_height": null,
            "align_content": null,
            "visibility": null,
            "align_self": null,
            "height": null,
            "min_height": null,
            "padding": null,
            "grid_auto_rows": null,
            "grid_gap": null,
            "max_width": null,
            "order": null,
            "_view_module_version": "1.2.0",
            "grid_template_areas": null,
            "object_position": null,
            "object_fit": null,
            "grid_auto_columns": null,
            "margin": null,
            "display": null,
            "left": null
          }
        },
        "1675f0431c1246c7aef16b9b04a2e838": {
          "model_module": "@jupyter-widgets/controls",
          "model_name": "HBoxModel",
          "state": {
            "_view_name": "HBoxView",
            "_dom_classes": [],
            "_model_name": "HBoxModel",
            "_view_module": "@jupyter-widgets/controls",
            "_model_module_version": "1.5.0",
            "_view_count": null,
            "_view_module_version": "1.5.0",
            "box_style": "",
            "layout": "IPY_MODEL_e28e07d748f64055aaa5057d2fe80219",
            "_model_module": "@jupyter-widgets/controls",
            "children": [
              "IPY_MODEL_151f64f81f53492e9d0ec1becd8d1aa5",
              "IPY_MODEL_ebdb58ee30a445ffb31e461d18488101"
            ]
          }
        },
        "e28e07d748f64055aaa5057d2fe80219": {
          "model_module": "@jupyter-widgets/base",
          "model_name": "LayoutModel",
          "state": {
            "_view_name": "LayoutView",
            "grid_template_rows": null,
            "right": null,
            "justify_content": null,
            "_view_module": "@jupyter-widgets/base",
            "overflow": null,
            "_model_module_version": "1.2.0",
            "_view_count": null,
            "flex_flow": null,
            "width": null,
            "min_width": null,
            "border": null,
            "align_items": null,
            "bottom": null,
            "_model_module": "@jupyter-widgets/base",
            "top": null,
            "grid_column": null,
            "overflow_y": null,
            "overflow_x": null,
            "grid_auto_flow": null,
            "grid_area": null,
            "grid_template_columns": null,
            "flex": null,
            "_model_name": "LayoutModel",
            "justify_items": null,
            "grid_row": null,
            "max_height": null,
            "align_content": null,
            "visibility": null,
            "align_self": null,
            "height": null,
            "min_height": null,
            "padding": null,
            "grid_auto_rows": null,
            "grid_gap": null,
            "max_width": null,
            "order": null,
            "_view_module_version": "1.2.0",
            "grid_template_areas": null,
            "object_position": null,
            "object_fit": null,
            "grid_auto_columns": null,
            "margin": null,
            "display": null,
            "left": null
          }
        },
        "151f64f81f53492e9d0ec1becd8d1aa5": {
          "model_module": "@jupyter-widgets/controls",
          "model_name": "FloatProgressModel",
          "state": {
            "_view_name": "ProgressView",
            "style": "IPY_MODEL_d6cd66f9fd424f7da724cb3ef8adf558",
            "_dom_classes": [],
            "description": "Downloading: 100%",
            "_model_name": "FloatProgressModel",
            "bar_style": "success",
            "max": 456,
            "_view_module": "@jupyter-widgets/controls",
            "_model_module_version": "1.5.0",
            "value": 456,
            "_view_count": null,
            "_view_module_version": "1.5.0",
            "orientation": "horizontal",
            "min": 0,
            "description_tooltip": null,
            "_model_module": "@jupyter-widgets/controls",
            "layout": "IPY_MODEL_5198c00b6d9d4ba3a95f19a76b83345d"
          }
        },
        "ebdb58ee30a445ffb31e461d18488101": {
          "model_module": "@jupyter-widgets/controls",
          "model_name": "HTMLModel",
          "state": {
            "_view_name": "HTMLView",
            "style": "IPY_MODEL_26b10f567e354139a17f3bf90adf614e",
            "_dom_classes": [],
            "description": "",
            "_model_name": "HTMLModel",
            "placeholder": "​",
            "_view_module": "@jupyter-widgets/controls",
            "_model_module_version": "1.5.0",
            "value": " 456/456 [00:07&lt;00:00, 64.1B/s]",
            "_view_count": null,
            "_view_module_version": "1.5.0",
            "description_tooltip": null,
            "_model_module": "@jupyter-widgets/controls",
            "layout": "IPY_MODEL_ef7c1e5926d44142a9a703bf6e3753d9"
          }
        },
        "d6cd66f9fd424f7da724cb3ef8adf558": {
          "model_module": "@jupyter-widgets/controls",
          "model_name": "ProgressStyleModel",
          "state": {
            "_view_name": "StyleView",
            "_model_name": "ProgressStyleModel",
            "description_width": "initial",
            "_view_module": "@jupyter-widgets/base",
            "_model_module_version": "1.5.0",
            "_view_count": null,
            "_view_module_version": "1.2.0",
            "bar_color": null,
            "_model_module": "@jupyter-widgets/controls"
          }
        },
        "5198c00b6d9d4ba3a95f19a76b83345d": {
          "model_module": "@jupyter-widgets/base",
          "model_name": "LayoutModel",
          "state": {
            "_view_name": "LayoutView",
            "grid_template_rows": null,
            "right": null,
            "justify_content": null,
            "_view_module": "@jupyter-widgets/base",
            "overflow": null,
            "_model_module_version": "1.2.0",
            "_view_count": null,
            "flex_flow": null,
            "width": null,
            "min_width": null,
            "border": null,
            "align_items": null,
            "bottom": null,
            "_model_module": "@jupyter-widgets/base",
            "top": null,
            "grid_column": null,
            "overflow_y": null,
            "overflow_x": null,
            "grid_auto_flow": null,
            "grid_area": null,
            "grid_template_columns": null,
            "flex": null,
            "_model_name": "LayoutModel",
            "justify_items": null,
            "grid_row": null,
            "max_height": null,
            "align_content": null,
            "visibility": null,
            "align_self": null,
            "height": null,
            "min_height": null,
            "padding": null,
            "grid_auto_rows": null,
            "grid_gap": null,
            "max_width": null,
            "order": null,
            "_view_module_version": "1.2.0",
            "grid_template_areas": null,
            "object_position": null,
            "object_fit": null,
            "grid_auto_columns": null,
            "margin": null,
            "display": null,
            "left": null
          }
        },
        "26b10f567e354139a17f3bf90adf614e": {
          "model_module": "@jupyter-widgets/controls",
          "model_name": "DescriptionStyleModel",
          "state": {
            "_view_name": "StyleView",
            "_model_name": "DescriptionStyleModel",
            "description_width": "",
            "_view_module": "@jupyter-widgets/base",
            "_model_module_version": "1.5.0",
            "_view_count": null,
            "_view_module_version": "1.2.0",
            "_model_module": "@jupyter-widgets/controls"
          }
        },
        "ef7c1e5926d44142a9a703bf6e3753d9": {
          "model_module": "@jupyter-widgets/base",
          "model_name": "LayoutModel",
          "state": {
            "_view_name": "LayoutView",
            "grid_template_rows": null,
            "right": null,
            "justify_content": null,
            "_view_module": "@jupyter-widgets/base",
            "overflow": null,
            "_model_module_version": "1.2.0",
            "_view_count": null,
            "flex_flow": null,
            "width": null,
            "min_width": null,
            "border": null,
            "align_items": null,
            "bottom": null,
            "_model_module": "@jupyter-widgets/base",
            "top": null,
            "grid_column": null,
            "overflow_y": null,
            "overflow_x": null,
            "grid_auto_flow": null,
            "grid_area": null,
            "grid_template_columns": null,
            "flex": null,
            "_model_name": "LayoutModel",
            "justify_items": null,
            "grid_row": null,
            "max_height": null,
            "align_content": null,
            "visibility": null,
            "align_self": null,
            "height": null,
            "min_height": null,
            "padding": null,
            "grid_auto_rows": null,
            "grid_gap": null,
            "max_width": null,
            "order": null,
            "_view_module_version": "1.2.0",
            "grid_template_areas": null,
            "object_position": null,
            "object_fit": null,
            "grid_auto_columns": null,
            "margin": null,
            "display": null,
            "left": null
          }
        },
        "60d07ba7c98042679140415ab02889cf": {
          "model_module": "@jupyter-widgets/controls",
          "model_name": "HBoxModel",
          "state": {
            "_view_name": "HBoxView",
            "_dom_classes": [],
            "_model_name": "HBoxModel",
            "_view_module": "@jupyter-widgets/controls",
            "_model_module_version": "1.5.0",
            "_view_count": null,
            "_view_module_version": "1.5.0",
            "box_style": "",
            "layout": "IPY_MODEL_ea66eee848214fb6a56b69062f44a1bb",
            "_model_module": "@jupyter-widgets/controls",
            "children": [
              "IPY_MODEL_7e51c6b30bfb4a998e3732e0db986b93",
              "IPY_MODEL_cdcf008b7c874384803c24ecfdc7c256"
            ]
          }
        },
        "ea66eee848214fb6a56b69062f44a1bb": {
          "model_module": "@jupyter-widgets/base",
          "model_name": "LayoutModel",
          "state": {
            "_view_name": "LayoutView",
            "grid_template_rows": null,
            "right": null,
            "justify_content": null,
            "_view_module": "@jupyter-widgets/base",
            "overflow": null,
            "_model_module_version": "1.2.0",
            "_view_count": null,
            "flex_flow": null,
            "width": null,
            "min_width": null,
            "border": null,
            "align_items": null,
            "bottom": null,
            "_model_module": "@jupyter-widgets/base",
            "top": null,
            "grid_column": null,
            "overflow_y": null,
            "overflow_x": null,
            "grid_auto_flow": null,
            "grid_area": null,
            "grid_template_columns": null,
            "flex": null,
            "_model_name": "LayoutModel",
            "justify_items": null,
            "grid_row": null,
            "max_height": null,
            "align_content": null,
            "visibility": null,
            "align_self": null,
            "height": null,
            "min_height": null,
            "padding": null,
            "grid_auto_rows": null,
            "grid_gap": null,
            "max_width": null,
            "order": null,
            "_view_module_version": "1.2.0",
            "grid_template_areas": null,
            "object_position": null,
            "object_fit": null,
            "grid_auto_columns": null,
            "margin": null,
            "display": null,
            "left": null
          }
        },
        "7e51c6b30bfb4a998e3732e0db986b93": {
          "model_module": "@jupyter-widgets/controls",
          "model_name": "FloatProgressModel",
          "state": {
            "_view_name": "ProgressView",
            "style": "IPY_MODEL_bbb9ea606fe6495f9f5ed1fd1eba6e95",
            "_dom_classes": [],
            "description": "Downloading: 100%",
            "_model_name": "FloatProgressModel",
            "bar_style": "success",
            "max": 441944381,
            "_view_module": "@jupyter-widgets/controls",
            "_model_module_version": "1.5.0",
            "value": 441944381,
            "_view_count": null,
            "_view_module_version": "1.5.0",
            "orientation": "horizontal",
            "min": 0,
            "description_tooltip": null,
            "_model_module": "@jupyter-widgets/controls",
            "layout": "IPY_MODEL_d827ec136445446b87503843f3c50873"
          }
        },
        "cdcf008b7c874384803c24ecfdc7c256": {
          "model_module": "@jupyter-widgets/controls",
          "model_name": "HTMLModel",
          "state": {
            "_view_name": "HTMLView",
            "style": "IPY_MODEL_6e6a7c4aed6647279422289fe0dd2a57",
            "_dom_classes": [],
            "description": "",
            "_model_name": "HTMLModel",
            "placeholder": "​",
            "_view_module": "@jupyter-widgets/controls",
            "_model_module_version": "1.5.0",
            "value": " 442M/442M [00:06&lt;00:00, 66.9MB/s]",
            "_view_count": null,
            "_view_module_version": "1.5.0",
            "description_tooltip": null,
            "_model_module": "@jupyter-widgets/controls",
            "layout": "IPY_MODEL_d2d9bf9c4e144f53be7e5ae5cb26b114"
          }
        },
        "bbb9ea606fe6495f9f5ed1fd1eba6e95": {
          "model_module": "@jupyter-widgets/controls",
          "model_name": "ProgressStyleModel",
          "state": {
            "_view_name": "StyleView",
            "_model_name": "ProgressStyleModel",
            "description_width": "initial",
            "_view_module": "@jupyter-widgets/base",
            "_model_module_version": "1.5.0",
            "_view_count": null,
            "_view_module_version": "1.2.0",
            "bar_color": null,
            "_model_module": "@jupyter-widgets/controls"
          }
        },
        "d827ec136445446b87503843f3c50873": {
          "model_module": "@jupyter-widgets/base",
          "model_name": "LayoutModel",
          "state": {
            "_view_name": "LayoutView",
            "grid_template_rows": null,
            "right": null,
            "justify_content": null,
            "_view_module": "@jupyter-widgets/base",
            "overflow": null,
            "_model_module_version": "1.2.0",
            "_view_count": null,
            "flex_flow": null,
            "width": null,
            "min_width": null,
            "border": null,
            "align_items": null,
            "bottom": null,
            "_model_module": "@jupyter-widgets/base",
            "top": null,
            "grid_column": null,
            "overflow_y": null,
            "overflow_x": null,
            "grid_auto_flow": null,
            "grid_area": null,
            "grid_template_columns": null,
            "flex": null,
            "_model_name": "LayoutModel",
            "justify_items": null,
            "grid_row": null,
            "max_height": null,
            "align_content": null,
            "visibility": null,
            "align_self": null,
            "height": null,
            "min_height": null,
            "padding": null,
            "grid_auto_rows": null,
            "grid_gap": null,
            "max_width": null,
            "order": null,
            "_view_module_version": "1.2.0",
            "grid_template_areas": null,
            "object_position": null,
            "object_fit": null,
            "grid_auto_columns": null,
            "margin": null,
            "display": null,
            "left": null
          }
        },
        "6e6a7c4aed6647279422289fe0dd2a57": {
          "model_module": "@jupyter-widgets/controls",
          "model_name": "DescriptionStyleModel",
          "state": {
            "_view_name": "StyleView",
            "_model_name": "DescriptionStyleModel",
            "description_width": "",
            "_view_module": "@jupyter-widgets/base",
            "_model_module_version": "1.5.0",
            "_view_count": null,
            "_view_module_version": "1.2.0",
            "_model_module": "@jupyter-widgets/controls"
          }
        },
        "d2d9bf9c4e144f53be7e5ae5cb26b114": {
          "model_module": "@jupyter-widgets/base",
          "model_name": "LayoutModel",
          "state": {
            "_view_name": "LayoutView",
            "grid_template_rows": null,
            "right": null,
            "justify_content": null,
            "_view_module": "@jupyter-widgets/base",
            "overflow": null,
            "_model_module_version": "1.2.0",
            "_view_count": null,
            "flex_flow": null,
            "width": null,
            "min_width": null,
            "border": null,
            "align_items": null,
            "bottom": null,
            "_model_module": "@jupyter-widgets/base",
            "top": null,
            "grid_column": null,
            "overflow_y": null,
            "overflow_x": null,
            "grid_auto_flow": null,
            "grid_area": null,
            "grid_template_columns": null,
            "flex": null,
            "_model_name": "LayoutModel",
            "justify_items": null,
            "grid_row": null,
            "max_height": null,
            "align_content": null,
            "visibility": null,
            "align_self": null,
            "height": null,
            "min_height": null,
            "padding": null,
            "grid_auto_rows": null,
            "grid_gap": null,
            "max_width": null,
            "order": null,
            "_view_module_version": "1.2.0",
            "grid_template_areas": null,
            "object_position": null,
            "object_fit": null,
            "grid_auto_columns": null,
            "margin": null,
            "display": null,
            "left": null
          }
        }
      }
    }
  },
  "cells": [
    {
      "cell_type": "markdown",
      "metadata": {
        "id": "zkRuwwzRiQnm"
      },
      "source": [
        "# Delivery Apps Reviews: Service and App Classificaition"
      ]
    },
    {
      "cell_type": "markdown",
      "metadata": {
        "id": "WwPlZUmBjE-f"
      },
      "source": [
        "This notebook explores classification using BERT model BETO (Spanish cased pre-trained BERT Model) to decide if the app review is referring to the app itself or to the service provided when handling the delivery. "
      ]
    },
    {
      "cell_type": "markdown",
      "metadata": {
        "id": "C6aowK6slejB"
      },
      "source": [
        "Several data-augmentation techniques are explored including:\n",
        "\n",
        "- Word Embedding Augmenter: Some words are replaced at random in the review using an embedding layer that can be found [here](https://https://github.com/dccuchile/spanish-word-embeddings#fasttext-embeddings-from-sbwc). This output some new reviews that can be used to train the model\n",
        "\n",
        "- Concatenate Comments: Some reviews are concatenated at random. The outcome gives a new review that targets both App and Service."
      ]
    },
    {
      "cell_type": "markdown",
      "metadata": {
        "id": "yGcJiZfmkc7p"
      },
      "source": [
        "Sentiment analysis and data extraction is done in this notebook: [Sentiment Analysis Notebook using BERT](https://colab.research.google.com/drive/1lRelEPqIzxSbQq09KGXHVjSo37WGXwwZ)"
      ]
    },
    {
      "cell_type": "markdown",
      "metadata": {
        "id": "RRkv_kxaiVQd"
      },
      "source": [
        "# Imports, Global Variables and Downloads"
      ]
    },
    {
      "cell_type": "code",
      "metadata": {
        "id": "Lj_69_t8k60p",
        "colab": {
          "base_uri": "https://localhost:8080/"
        },
        "outputId": "50911dd8-eddd-4309-8a99-cec0e005a22b"
      },
      "source": [
        "!pip install transformers==3.3.1\n",
        "!pip install nlpaug"
      ],
      "execution_count": 1,
      "outputs": [
        {
          "output_type": "stream",
          "text": [
            "Collecting transformers==3.3.1\n",
            "\u001b[?25l  Downloading https://files.pythonhosted.org/packages/19/22/aff234f4a841f8999e68a7a94bdd4b60b4cebcfeca5d67d61cd08c9179de/transformers-3.3.1-py3-none-any.whl (1.1MB)\n",
            "\u001b[K     |████████████████████████████████| 1.1MB 12.5MB/s \n",
            "\u001b[?25hCollecting sentencepiece!=0.1.92\n",
            "\u001b[?25l  Downloading https://files.pythonhosted.org/packages/e5/2d/6d4ca4bef9a67070fa1cac508606328329152b1df10bdf31fb6e4e727894/sentencepiece-0.1.94-cp36-cp36m-manylinux2014_x86_64.whl (1.1MB)\n",
            "\u001b[K     |████████████████████████████████| 1.1MB 56.6MB/s \n",
            "\u001b[?25hRequirement already satisfied: packaging in /usr/local/lib/python3.6/dist-packages (from transformers==3.3.1) (20.8)\n",
            "Requirement already satisfied: tqdm>=4.27 in /usr/local/lib/python3.6/dist-packages (from transformers==3.3.1) (4.41.1)\n",
            "Requirement already satisfied: regex!=2019.12.17 in /usr/local/lib/python3.6/dist-packages (from transformers==3.3.1) (2019.12.20)\n",
            "Requirement already satisfied: filelock in /usr/local/lib/python3.6/dist-packages (from transformers==3.3.1) (3.0.12)\n",
            "Collecting sacremoses\n",
            "\u001b[?25l  Downloading https://files.pythonhosted.org/packages/7d/34/09d19aff26edcc8eb2a01bed8e98f13a1537005d31e95233fd48216eed10/sacremoses-0.0.43.tar.gz (883kB)\n",
            "\u001b[K     |████████████████████████████████| 890kB 55.8MB/s \n",
            "\u001b[?25hCollecting tokenizers==0.8.1.rc2\n",
            "\u001b[?25l  Downloading https://files.pythonhosted.org/packages/80/83/8b9fccb9e48eeb575ee19179e2bdde0ee9a1904f97de5f02d19016b8804f/tokenizers-0.8.1rc2-cp36-cp36m-manylinux1_x86_64.whl (3.0MB)\n",
            "\u001b[K     |████████████████████████████████| 3.0MB 58.9MB/s \n",
            "\u001b[?25hRequirement already satisfied: numpy in /usr/local/lib/python3.6/dist-packages (from transformers==3.3.1) (1.19.4)\n",
            "Requirement already satisfied: dataclasses; python_version < \"3.7\" in /usr/local/lib/python3.6/dist-packages (from transformers==3.3.1) (0.8)\n",
            "Requirement already satisfied: requests in /usr/local/lib/python3.6/dist-packages (from transformers==3.3.1) (2.23.0)\n",
            "Requirement already satisfied: pyparsing>=2.0.2 in /usr/local/lib/python3.6/dist-packages (from packaging->transformers==3.3.1) (2.4.7)\n",
            "Requirement already satisfied: six in /usr/local/lib/python3.6/dist-packages (from sacremoses->transformers==3.3.1) (1.15.0)\n",
            "Requirement already satisfied: click in /usr/local/lib/python3.6/dist-packages (from sacremoses->transformers==3.3.1) (7.1.2)\n",
            "Requirement already satisfied: joblib in /usr/local/lib/python3.6/dist-packages (from sacremoses->transformers==3.3.1) (1.0.0)\n",
            "Requirement already satisfied: urllib3!=1.25.0,!=1.25.1,<1.26,>=1.21.1 in /usr/local/lib/python3.6/dist-packages (from requests->transformers==3.3.1) (1.24.3)\n",
            "Requirement already satisfied: idna<3,>=2.5 in /usr/local/lib/python3.6/dist-packages (from requests->transformers==3.3.1) (2.10)\n",
            "Requirement already satisfied: chardet<4,>=3.0.2 in /usr/local/lib/python3.6/dist-packages (from requests->transformers==3.3.1) (3.0.4)\n",
            "Requirement already satisfied: certifi>=2017.4.17 in /usr/local/lib/python3.6/dist-packages (from requests->transformers==3.3.1) (2020.12.5)\n",
            "Building wheels for collected packages: sacremoses\n",
            "  Building wheel for sacremoses (setup.py) ... \u001b[?25l\u001b[?25hdone\n",
            "  Created wheel for sacremoses: filename=sacremoses-0.0.43-cp36-none-any.whl size=893261 sha256=6eacf5c453699847b94a74235c4f4628be76ebf7c1347a474e88d463a58a793c\n",
            "  Stored in directory: /root/.cache/pip/wheels/29/3c/fd/7ce5c3f0666dab31a50123635e6fb5e19ceb42ce38d4e58f45\n",
            "Successfully built sacremoses\n",
            "Installing collected packages: sentencepiece, sacremoses, tokenizers, transformers\n",
            "Successfully installed sacremoses-0.0.43 sentencepiece-0.1.94 tokenizers-0.8.1rc2 transformers-3.3.1\n",
            "Collecting nlpaug\n",
            "\u001b[?25l  Downloading https://files.pythonhosted.org/packages/ac/7c/09173d1703c970f039d2492150607343de8a57752e7ba7afb8247b4cfbd6/nlpaug-1.1.1-py3-none-any.whl (381kB)\n",
            "\u001b[K     |████████████████████████████████| 389kB 17.5MB/s \n",
            "\u001b[?25hInstalling collected packages: nlpaug\n",
            "Successfully installed nlpaug-1.1.1\n"
          ],
          "name": "stdout"
        }
      ]
    },
    {
      "cell_type": "code",
      "metadata": {
        "id": "hHfJm3KXIWaK"
      },
      "source": [
        "import transformers\n",
        "import torch\n",
        "\n",
        "from tqdm import tqdm\n",
        "\n",
        "from google.colab import files\n",
        "\n",
        "import pandas as pd\n",
        "import numpy as np\n",
        "import seaborn as sns\n",
        "import matplotlib.pyplot as plt\n",
        "\n",
        "import nlpaug.augmenter.word as naw\n",
        "\n",
        "\n",
        "from collections import defaultdict\n",
        "\n",
        "from torch import nn\n",
        "\n",
        "from sklearn.utils import shuffle\n",
        "\n",
        "from sklearn.model_selection import train_test_split\n",
        "from torch.utils import data\n",
        "\n",
        "BERT_HUGGINGFACE_PRE_TRAINED_MODEL_NAME = 'dccuchile/bert-base-spanish-wwm-cased'\n",
        "\n",
        "MAX_LEN = 70\n",
        "BATCH_SIZE = 64 # 8, 16, 32, 64, 128\n",
        "EPOCHS = 16\n",
        "RANDOM_SEED = 42\n",
        "TARGET_CLASSES = [\"App\", \"Service\"] # Model can be trained for detecting comments referred to \"App\" or \"Service\"\n",
        "DOWNLOAD_MODEL = True"
      ],
      "execution_count": 32,
      "outputs": []
    },
    {
      "cell_type": "markdown",
      "metadata": {
        "id": "DcNSI0EBh8ob"
      },
      "source": [
        "#### Verision and packages"
      ]
    },
    {
      "cell_type": "code",
      "metadata": {
        "id": "pd-voih0hxK7",
        "colab": {
          "base_uri": "https://localhost:8080/"
        },
        "outputId": "4f7e8dac-1c0a-407e-a310-b715897b9d93"
      },
      "source": [
        "print(f'Transformers: {transformers.__version__}')\n",
        "print(f'Torch: {torch.__version__}')"
      ],
      "execution_count": 3,
      "outputs": [
        {
          "output_type": "stream",
          "text": [
            "Transformers: 3.3.1\n",
            "Torch: 1.7.0+cu101\n"
          ],
          "name": "stdout"
        }
      ]
    },
    {
      "cell_type": "code",
      "metadata": {
        "id": "0wN69dgjLT7l",
        "colab": {
          "base_uri": "https://localhost:8080/"
        },
        "outputId": "1ccda38e-85cb-46ae-dbd7-4888049a3e74"
      },
      "source": [
        "!gdown --id 1I1uhw2mG56H0_hy8aZ1S-xcLyprXuuwY --output review_dataset.csv\n",
        "!gdown --id 1ytY_Pr1XUy9v5abbOxBIHdcZ0GMJl1M2 --output fasttext-sbwc.vec"
      ],
      "execution_count": 4,
      "outputs": [
        {
          "output_type": "stream",
          "text": [
            "Downloading...\n",
            "From: https://drive.google.com/uc?id=1I1uhw2mG56H0_hy8aZ1S-xcLyprXuuwY\n",
            "To: /content/review_dataset.csv\n",
            "100% 247k/247k [00:00<00:00, 7.82MB/s]\n",
            "Downloading...\n",
            "From: https://drive.google.com/uc?id=1ytY_Pr1XUy9v5abbOxBIHdcZ0GMJl1M2\n",
            "To: /content/fasttext-sbwc.vec\n",
            "2.24GB [00:25, 89.0MB/s]\n"
          ],
          "name": "stdout"
        }
      ]
    },
    {
      "cell_type": "code",
      "metadata": {
        "id": "PpC4gBMWoPk3",
        "colab": {
          "base_uri": "https://localhost:8080/"
        },
        "outputId": "1d2a5bb7-db89-4d17-b10c-00e688fee3ee"
      },
      "source": [
        "!nvidia-smi"
      ],
      "execution_count": 5,
      "outputs": [
        {
          "output_type": "stream",
          "text": [
            "Tue Jan  5 01:31:25 2021       \n",
            "+-----------------------------------------------------------------------------+\n",
            "| NVIDIA-SMI 460.27.04    Driver Version: 418.67       CUDA Version: 10.1     |\n",
            "|-------------------------------+----------------------+----------------------+\n",
            "| GPU  Name        Persistence-M| Bus-Id        Disp.A | Volatile Uncorr. ECC |\n",
            "| Fan  Temp  Perf  Pwr:Usage/Cap|         Memory-Usage | GPU-Util  Compute M. |\n",
            "|                               |                      |               MIG M. |\n",
            "|===============================+======================+======================|\n",
            "|   0  Tesla T4            Off  | 00000000:00:04.0 Off |                    0 |\n",
            "| N/A   55C    P8    10W /  70W |     10MiB / 15079MiB |      0%      Default |\n",
            "|                               |                      |                 ERR! |\n",
            "+-------------------------------+----------------------+----------------------+\n",
            "                                                                               \n",
            "+-----------------------------------------------------------------------------+\n",
            "| Processes:                                                                  |\n",
            "|  GPU   GI   CI        PID   Type   Process name                  GPU Memory |\n",
            "|        ID   ID                                                   Usage      |\n",
            "|=============================================================================|\n",
            "|  No running processes found                                                 |\n",
            "+-----------------------------------------------------------------------------+\n"
          ],
          "name": "stdout"
        }
      ]
    },
    {
      "cell_type": "code",
      "metadata": {
        "id": "g1fh2QX6oS9g"
      },
      "source": [
        "device = torch.device(\"cuda:0\" if torch.cuda.is_available() else \"cpu\")"
      ],
      "execution_count": 6,
      "outputs": []
    },
    {
      "cell_type": "markdown",
      "metadata": {
        "id": "MVdwLHyDidbl"
      },
      "source": [
        "# Choose dataset and classification target"
      ]
    },
    {
      "cell_type": "code",
      "metadata": {
        "id": "pfPETVALKTqr",
        "colab": {
          "base_uri": "https://localhost:8080/"
        },
        "outputId": "a11822d8-3e6f-4ac8-9ca6-1193c6974e4d"
      },
      "source": [
        "def get_dataset_dataset(file, columns, index, convert2int64, naval=-1, preview=False):\n",
        "    \"\"\"Carga el csv de file\n",
        "    Completa las columnas con los valores requeridos\n",
        "    Pasa todos los valores numericos a int64.\n",
        "    Vuela el doble Index\n",
        "    Vuela todos los NaN: Poner el numero 'naval' para los valores null \"\"\"\n",
        "    df = pd.read_csv(file, names=columns)\n",
        "    df.set_index(index, inplace=True)\n",
        "\n",
        "    for col in convert2int64:\n",
        "        df[col] = df[col].fillna(naval)\n",
        "        df[col] = df[col].astype(np.float64)\n",
        "    \n",
        "    if preview:\n",
        "        print(df.head())\n",
        "        print('\\n', \"-------------------------\", '\\n')\n",
        "        print(df.info())\n",
        "    \n",
        "    return df\n",
        "\n",
        "df = get_dataset_dataset(\n",
        "    \"review_dataset.csv\",\n",
        "    [\"Index\", \"Content\", \"Sentiment\", \"App\", \"Service\", \"Support\"],\n",
        "    'Index',\n",
        "    convert2int64=['Sentiment', 'App', \"Service\", \"Support\"],\n",
        "    preview=True\n",
        ")"
      ],
      "execution_count": 7,
      "outputs": [
        {
          "output_type": "stream",
          "text": [
            "                                  Content  Sentiment  App  Service  Support\n",
            "Index                                                                      \n",
            "2094                Agilidad y protocolos        2.0 -1.0      2.0     -1.0\n",
            "474                              Exelente        2.0  2.0     -1.0     -1.0\n",
            "874       Muy buena recepcion de producto        2.0 -1.0      2.0     -1.0\n",
            "189    Se queda en negro al querer entrar        0.0  0.0     -1.0     -1.0\n",
            "1976                          son lindos!        2.0 -1.0     -1.0     -1.0\n",
            "\n",
            " ------------------------- \n",
            "\n",
            "<class 'pandas.core.frame.DataFrame'>\n",
            "Int64Index: 2150 entries, 2094 to 1352\n",
            "Data columns (total 5 columns):\n",
            " #   Column     Non-Null Count  Dtype  \n",
            "---  ------     --------------  -----  \n",
            " 0   Content    2150 non-null   object \n",
            " 1   Sentiment  2150 non-null   float64\n",
            " 2   App        2150 non-null   float64\n",
            " 3   Service    2150 non-null   float64\n",
            " 4   Support    2150 non-null   float64\n",
            "dtypes: float64(4), object(1)\n",
            "memory usage: 100.8+ KB\n",
            "None\n"
          ],
          "name": "stdout"
        }
      ]
    },
    {
      "cell_type": "code",
      "metadata": {
        "id": "OrVhC5l7UCy3",
        "colab": {
          "base_uri": "https://localhost:8080/"
        },
        "outputId": "44d78e30-2e87-4749-dd57-9fd231560a00"
      },
      "source": [
        "def get_dataset_for_classification(df, target_clases, binarize=True, binval=-1, preview=False):\n",
        "    \"\"\"Returns the dataframe with its content and a specific class for classification\n",
        "    If binarize is set to True, it returns the class binabinarized_service_df.head()\n",
        "    binarized_service_df.info() rized, mapping binval to 0 and other to 1\n",
        "    \"\"\"\n",
        "    cols = ['Content']\n",
        "    for clase in target_clases:\n",
        "        cols.append(clase)\n",
        "    \n",
        "    new_df = df[cols].copy()\n",
        "\n",
        "    if binarize:\n",
        "        for clase in target_clases:\n",
        "            new_df[clase] = new_df[clase].apply(lambda x: 0 if x == binval else 1)\n",
        "\n",
        "    if preview:\n",
        "        print(new_df.head())\n",
        "        print('\\n', \"-------------------------\", '\\n')\n",
        "        print(new_df.info())\n",
        "\n",
        "    return new_df\n",
        "\n",
        "binarized_class_df = get_dataset_for_classification(df, TARGET_CLASSES, preview=True)"
      ],
      "execution_count": 8,
      "outputs": [
        {
          "output_type": "stream",
          "text": [
            "                                  Content  App  Service\n",
            "Index                                                  \n",
            "2094                Agilidad y protocolos    0        1\n",
            "474                              Exelente    1        0\n",
            "874       Muy buena recepcion de producto    0        1\n",
            "189    Se queda en negro al querer entrar    1        0\n",
            "1976                          son lindos!    0        0\n",
            "\n",
            " ------------------------- \n",
            "\n",
            "<class 'pandas.core.frame.DataFrame'>\n",
            "Int64Index: 2150 entries, 2094 to 1352\n",
            "Data columns (total 3 columns):\n",
            " #   Column   Non-Null Count  Dtype \n",
            "---  ------   --------------  ----- \n",
            " 0   Content  2150 non-null   object\n",
            " 1   App      2150 non-null   int64 \n",
            " 2   Service  2150 non-null   int64 \n",
            "dtypes: int64(2), object(1)\n",
            "memory usage: 67.2+ KB\n",
            "None\n"
          ],
          "name": "stdout"
        }
      ]
    },
    {
      "cell_type": "code",
      "metadata": {
        "colab": {
          "base_uri": "https://localhost:8080/",
          "height": 334
        },
        "id": "K3eSbTkYz7xe",
        "outputId": "0e8f6e51-f98c-45e1-83d7-ec98614d835d"
      },
      "source": [
        "binarized_class_df.hist()"
      ],
      "execution_count": 9,
      "outputs": [
        {
          "output_type": "execute_result",
          "data": {
            "text/plain": [
              "array([[<matplotlib.axes._subplots.AxesSubplot object at 0x7f742b762080>,\n",
              "        <matplotlib.axes._subplots.AxesSubplot object at 0x7f742b735358>]],\n",
              "      dtype=object)"
            ]
          },
          "metadata": {
            "tags": []
          },
          "execution_count": 9
        },
        {
          "output_type": "display_data",
          "data": {
            "image/png": "[encoded data removed]",
            "text/plain": [
              "<Figure size 432x288 with 2 Axes>"
            ]
          },
          "metadata": {
            "tags": [],
            "needs_background": "light"
          }
        }
      ]
    },
    {
      "cell_type": "markdown",
      "metadata": {
        "id": "_PuLG7gKeDoQ"
      },
      "source": [
        "# Data Augmentation: Concatenate Comments"
      ]
    },
    {
      "cell_type": "markdown",
      "metadata": {
        "id": "sWvywntr1dRi"
      },
      "source": [
        "Este proceso se realiza antes de categorizar para poder hacer uso del hecho de que los datos vienen con binary encoding"
      ]
    },
    {
      "cell_type": "markdown",
      "metadata": {
        "id": "uoHLuhdDidFl"
      },
      "source": [
        "La idea que puede servir para augmentar es concatenar comentarios de clases distintas para que el modelo entienda que cuando un comentario habla de muchas clases, tambien pertenece a la que uno esta analizando"
      ]
    },
    {
      "cell_type": "code",
      "metadata": {
        "id": "I21cQOxyq2zf"
      },
      "source": [
        "SKIP_STEP_DACC = False"
      ],
      "execution_count": 10,
      "outputs": []
    },
    {
      "cell_type": "code",
      "metadata": {
        "id": "ZA6jfacVizYa"
      },
      "source": [
        "def random_comment_concat(df, nanval=0, concat_prob=0.3, test_fun=False):\n",
        "    df = df.copy()\n",
        "    prev_comment = None\n",
        "    for _, row in tqdm(df.iterrows()):\n",
        "        if (np.random.random() < concat_prob and prev_comment is not None):\n",
        "            \n",
        "            if test_fun:\n",
        "                print()\n",
        "                print(f'Previous comment: {prev_comment}')\n",
        "                print(f'Actual comment: {row[\"Content\"]}')\n",
        "            \n",
        "            new_comment = row['Content'] + ' ' + prev_comment\n",
        "            \n",
        "            if test_fun:\n",
        "                print(f'New comment: {new_comment}')\n",
        "                print()\n",
        "                print(f'Previous target App: {prev_target_app}')\n",
        "                print(f'Actual target App: {row[\"App\"]}')\n",
        "                print(f'New target App: {row[\"App\"] or prev_target_app}')\n",
        "                print()\n",
        "                print(f'Previous target Service: {prev_target_service}')\n",
        "                print(f'Actual target Service: {row[\"Service\"]}')\n",
        "                print(f'New target Service: {row[\"Service\"] or prev_target_service}')\n",
        "\n",
        "                break\n",
        "            \n",
        "            df = df.append({\n",
        "                'Content': new_comment,\n",
        "                'App': row['App'] or prev_target_app,\n",
        "                'Service': row['Service'] or prev_target_service\n",
        "            }, ignore_index=True)\n",
        "\n",
        "        prev_comment = row['Content']\n",
        "        prev_target_app = row['App']\n",
        "        prev_target_service = row['Service']\n",
        "\n",
        "    return shuffle(df)"
      ],
      "execution_count": 11,
      "outputs": []
    },
    {
      "cell_type": "code",
      "metadata": {
        "id": "lIU_QV60l3j1",
        "colab": {
          "base_uri": "https://localhost:8080/"
        },
        "outputId": "dd660974-780e-4eae-eddf-b7111739cd3c"
      },
      "source": [
        "if not SKIP_STEP_DACC:\n",
        "    binarized_class_df = random_comment_concat(binarized_class_df, test_fun=False)"
      ],
      "execution_count": 12,
      "outputs": [
        {
          "output_type": "stream",
          "text": [
            "2150it [00:01, 1205.22it/s]\n"
          ],
          "name": "stderr"
        }
      ]
    },
    {
      "cell_type": "markdown",
      "metadata": {
        "id": "btA4EV_Mih0G"
      },
      "source": [
        "# Data analysis"
      ]
    },
    {
      "cell_type": "markdown",
      "metadata": {
        "id": "rd_lDt5YzOuv"
      },
      "source": [
        "## Labeling"
      ]
    },
    {
      "cell_type": "code",
      "metadata": {
        "id": "srZ4DcK13jdJ"
      },
      "source": [
        "def to_cat(a):\n",
        "    if a['App'] == 1 and a['Service'] == 1:\n",
        "        return 3\n",
        "    elif a['App'] == 1 and a['Service'] == 0:\n",
        "        return 2\n",
        "    elif a['App'] == 0 and a['Service'] == 1:\n",
        "        return 1\n",
        "    else:\n",
        "        return 0\n",
        "\n",
        "binarized_class_df['Target'] = binarized_class_df[['App', 'Service']].apply(to_cat, axis=1)"
      ],
      "execution_count": 13,
      "outputs": []
    },
    {
      "cell_type": "code",
      "metadata": {
        "colab": {
          "base_uri": "https://localhost:8080/"
        },
        "id": "PzI_Ak8E5JsR",
        "outputId": "ea0f258c-6ad6-4e03-d452-d4000cf5382f"
      },
      "source": [
        "binarized_class_df['Target'].value_counts(normalize=False)"
      ],
      "execution_count": 14,
      "outputs": [
        {
          "output_type": "execute_result",
          "data": {
            "text/plain": [
              "2    1201\n",
              "1     737\n",
              "0     469\n",
              "3     373\n",
              "Name: Target, dtype: int64"
            ]
          },
          "metadata": {
            "tags": []
          },
          "execution_count": 14
        }
      ]
    },
    {
      "cell_type": "code",
      "metadata": {
        "id": "tmJY8PuKdTMI",
        "colab": {
          "base_uri": "https://localhost:8080/",
          "height": 334
        },
        "outputId": "2ca9e44e-5e56-4764-8110-eb628efad040"
      },
      "source": [
        "ax = sns.countplot(binarized_class_df['Target'])\n",
        "ax.set_xticklabels(['Other', 'Service', 'App', 'App and Service']);"
      ],
      "execution_count": 15,
      "outputs": [
        {
          "output_type": "stream",
          "text": [
            "/usr/local/lib/python3.6/dist-packages/seaborn/_decorators.py:43: FutureWarning: Pass the following variable as a keyword arg: x. From version 0.12, the only valid positional argument will be `data`, and passing other arguments without an explicit keyword will result in an error or misinterpretation.\n",
            "  FutureWarning\n"
          ],
          "name": "stderr"
        },
        {
          "output_type": "display_data",
          "data": {
            "image/png": "[encoded data removed]",
            "text/plain": [
              "<Figure size 432x288 with 1 Axes>"
            ]
          },
          "metadata": {
            "tags": [],
            "needs_background": "light"
          }
        }
      ]
    },
    {
      "cell_type": "markdown",
      "metadata": {
        "id": "Og3WMz6hu0-p"
      },
      "source": [
        "## Train Val Test Split"
      ]
    },
    {
      "cell_type": "code",
      "metadata": {
        "id": "gsCU42pgu3si"
      },
      "source": [
        "df_train, df_test = train_test_split(binarized_class_df, test_size=0.2, random_state=RANDOM_SEED, stratify=binarized_class_df['Target'])\n",
        "df_val, df_test = train_test_split(binarized_class_df, test_size=0.5, random_state=RANDOM_SEED, stratify=binarized_class_df['Target'])"
      ],
      "execution_count": 16,
      "outputs": []
    },
    {
      "cell_type": "code",
      "metadata": {
        "colab": {
          "base_uri": "https://localhost:8080/"
        },
        "id": "hzQl759v4I3u",
        "outputId": "3f9c8c24-28db-4f00-f790-2f035c700370"
      },
      "source": [
        "print(\"Train Target Proportions:\")\n",
        "print(df_train['Target'].value_counts(normalize=True))\n",
        "print(\"Validation Target Proportions:\")\n",
        "print(df_val['Target'].value_counts(normalize=True))\n",
        "print(\"Test Target Proportions:\")\n",
        "print(df_test['Target'].value_counts(normalize=True))"
      ],
      "execution_count": 17,
      "outputs": [
        {
          "output_type": "stream",
          "text": [
            "Train Target Proportions:\n",
            "2    0.432104\n",
            "1    0.265288\n",
            "0    0.168615\n",
            "3    0.133993\n",
            "Name: Target, dtype: float64\n",
            "Validation Target Proportions:\n",
            "2    0.431655\n",
            "1    0.265468\n",
            "0    0.168345\n",
            "3    0.134532\n",
            "Name: Target, dtype: float64\n",
            "Test Target Proportions:\n",
            "2    0.432374\n",
            "1    0.264748\n",
            "0    0.169065\n",
            "3    0.133813\n",
            "Name: Target, dtype: float64\n"
          ],
          "name": "stdout"
        }
      ]
    },
    {
      "cell_type": "markdown",
      "metadata": {
        "id": "XxnRFGfgjzfq"
      },
      "source": [
        "# Text Preprocessing"
      ]
    },
    {
      "cell_type": "code",
      "metadata": {
        "id": "prNyIlBAjJiX",
        "colab": {
          "base_uri": "https://localhost:8080/",
          "height": 215,
          "referenced_widgets": [
            "c157c5502d9c44c286bf50c372601fe3",
            "ad332bbea23b4e8f9ad2e63f2675a8eb",
            "5175444982d64cbcbcf1ca7e82e3d370",
            "cac2b3424e0a48f69d7b29222f0f3cb6",
            "8072dcf5f06b4452b4ef6c52432c6303",
            "ced0c8a0974a4fb9bbf964fea1b41570",
            "36246842ebe149488e929f6dc11b46c7",
            "9f15c4e00b334ee7ad1b442dfa01a4ab",
            "9183302efab74f99af40e69ed828c0f1",
            "ae545fce66b2446ba7060dc2ee52d3f6",
            "38bc2f988d144a21ad0545b75df99b3f",
            "6c4e0edc356a46d687538bd938bd6f7d",
            "0bdaad8aca3b48f3beed54d3915d6c57",
            "87e1d5bdbcf046cb8189c263e90eb5a1",
            "65b41f02d2e24a36a09eba8019db5ace",
            "572c2088c1574f089325f4437a8c851b",
            "1e7f435033d347bbb7cba3b046a26ed7",
            "f58287486a4447958235c3e2c3941d1c",
            "8afbf9015d8c4a08821cbaeac8c83d88",
            "632112f66f3340d18aae3d9f2a29c4ce",
            "9914f0dc67f447fbb6dddeb26d8fe6af",
            "da8ce7f1e1894da292fd3faa5b5b7a15",
            "c472079e18174899b01a5e02456e2f70",
            "3a347fb798d443b8a7b9ce56b96f020c",
            "bc1564f20eaf4e90b6a434c4f5f009a1",
            "976be058115a4f17b0df4f5c53875e07",
            "875f9f7dc92a439eb48a2ef237c42447",
            "785d8bc2115e4c87b2484ea9237c559d",
            "18ead515168b4ff8b7856857379539c4",
            "a28c093f9bdc435f8101e4f80f4cc12f",
            "b7664ba83875431db1b3f1397fc6a2a3",
            "2086927d423348bd912118420c88e371"
          ]
        },
        "outputId": "7e9016e2-a8d5-41ac-ad95-6eee11da593d"
      },
      "source": [
        "tokenizer = transformers.BertTokenizer.from_pretrained(BERT_HUGGINGFACE_PRE_TRAINED_MODEL_NAME)"
      ],
      "execution_count": 18,
      "outputs": [
        {
          "output_type": "display_data",
          "data": {
            "application/vnd.jupyter.widget-view+json": {
              "model_id": "c157c5502d9c44c286bf50c372601fe3",
              "version_minor": 0,
              "version_major": 2
            },
            "text/plain": [
              "HBox(children=(FloatProgress(value=0.0, description='Downloading', max=242120.0, style=ProgressStyle(descripti…"
            ]
          },
          "metadata": {
            "tags": []
          }
        },
        {
          "output_type": "stream",
          "text": [
            "\n"
          ],
          "name": "stdout"
        },
        {
          "output_type": "display_data",
          "data": {
            "application/vnd.jupyter.widget-view+json": {
              "model_id": "9183302efab74f99af40e69ed828c0f1",
              "version_minor": 0,
              "version_major": 2
            },
            "text/plain": [
              "HBox(children=(FloatProgress(value=0.0, description='Downloading', max=2.0, style=ProgressStyle(description_wi…"
            ]
          },
          "metadata": {
            "tags": []
          }
        },
        {
          "output_type": "stream",
          "text": [
            "\n"
          ],
          "name": "stdout"
        },
        {
          "output_type": "display_data",
          "data": {
            "application/vnd.jupyter.widget-view+json": {
              "model_id": "1e7f435033d347bbb7cba3b046a26ed7",
              "version_minor": 0,
              "version_major": 2
            },
            "text/plain": [
              "HBox(children=(FloatProgress(value=0.0, description='Downloading', max=112.0, style=ProgressStyle(description_…"
            ]
          },
          "metadata": {
            "tags": []
          }
        },
        {
          "output_type": "stream",
          "text": [
            "\n"
          ],
          "name": "stdout"
        },
        {
          "output_type": "display_data",
          "data": {
            "application/vnd.jupyter.widget-view+json": {
              "model_id": "bc1564f20eaf4e90b6a434c4f5f009a1",
              "version_minor": 0,
              "version_major": 2
            },
            "text/plain": [
              "HBox(children=(FloatProgress(value=0.0, description='Downloading', max=43.0, style=ProgressStyle(description_w…"
            ]
          },
          "metadata": {
            "tags": []
          }
        },
        {
          "output_type": "stream",
          "text": [
            "\n"
          ],
          "name": "stdout"
        }
      ]
    },
    {
      "cell_type": "markdown",
      "metadata": {
        "id": "NujcGX97lKKZ"
      },
      "source": [
        "# Creating Torch Dataset"
      ]
    },
    {
      "cell_type": "code",
      "metadata": {
        "id": "SGG4YMpVk3fP"
      },
      "source": [
        "class GPReviewDataset(data.Dataset):\n",
        "    \"\"\"https://pytorch.org/docs/stable/data.html#torch.utils.data.Dataset\"\"\"\n",
        "\n",
        "    def __init__(self, review, target, tokenizer, max_len):\n",
        "        self.review = review\n",
        "        self.target = target\n",
        "        self.tokenizer = tokenizer\n",
        "        self.max_len = max_len\n",
        "\n",
        "    def __len__(self):\n",
        "        return len(self.review)\n",
        "\n",
        "    def __getitem__(self, item):\n",
        "        review = str(self.review[item])\n",
        "\n",
        "        encoding = tokenizer.encode_plus(\n",
        "            review,\n",
        "            max_length=self.max_len,\n",
        "            add_special_tokens=True,\n",
        "            padding='max_length',\n",
        "            truncation=True,\n",
        "            return_attention_mask=True,\n",
        "            return_token_type_ids=False,\n",
        "            return_tensors='pt'\n",
        "        )\n",
        "\n",
        "        return {\n",
        "            'review_text': review,\n",
        "            'input_ids': encoding['input_ids'].flatten(),\n",
        "            'attention_mask': encoding['attention_mask'].flatten(),\n",
        "            'targets': torch.tensor(self.target[item], dtype=torch.long),\n",
        "\n",
        "        }"
      ],
      "execution_count": 19,
      "outputs": []
    },
    {
      "cell_type": "markdown",
      "metadata": {
        "id": "p_pV8auq0im0"
      },
      "source": [
        "# Data Augmentation: Word Embedding Agumenter"
      ]
    },
    {
      "cell_type": "markdown",
      "metadata": {
        "id": "8NggJWgaqCk1"
      },
      "source": [
        "Esto puede llevar como 6 minutos"
      ]
    },
    {
      "cell_type": "code",
      "metadata": {
        "id": "EdV5O_hKr2Ar"
      },
      "source": [
        "SKIP_STEP_DAWEA = False"
      ],
      "execution_count": 20,
      "outputs": []
    },
    {
      "cell_type": "code",
      "metadata": {
        "id": "ydruoGeK0iCK"
      },
      "source": [
        "def augment_df_with_nlpaug(df, content, target, aug_p=0.25, df_p=0.2, test_fun=False):\n",
        "    \"\"\"Augments the content of the dataset with similar words but retaining the target.\n",
        "    \n",
        "    Args:\n",
        "    :df: Dataframe to agument\n",
        "    :content: column to agument\n",
        "    :target: column target\n",
        "    :bert_model: path to the pre trained bert model to use, default is set to hugging face transformer library\n",
        "    :aug_p: probability of changing a word\n",
        "    :df_p: probability to augment the row. 1 Augments all the dataset duplicating it.\n",
        "    \n",
        "    Returns:\n",
        "    shuffled dataset with the new rows\n",
        "\n",
        "    https://github.com/makcedward/nlpaug/blob/master/example/textual_language_augmenter.ipynb\n",
        "    \"\"\"\n",
        "    df = df.copy()\n",
        "\n",
        "    aug = naw.WordEmbsAug(\n",
        "        model_type='fasttext',\n",
        "        model_path=\"fasttext-sbwc.vec\",\n",
        "        aug_min=2,\n",
        "        aug_p=aug_p,\n",
        "        aug_max=3\n",
        "        )\n",
        "\n",
        "    for _, row in tqdm(df.iterrows()):\n",
        "        if test_fun:\n",
        "            print({\n",
        "                content: aug.augment(row[content]),\n",
        "                target: row[target]\n",
        "            })\n",
        "            break\n",
        "        if np.random.random() < df_p: \n",
        "            df = df.append({\n",
        "                content: aug.augment(row[content]),\n",
        "                target: row[target]\n",
        "            }, ignore_index=True)\n",
        "\n",
        "    return shuffle(df)"
      ],
      "execution_count": 21,
      "outputs": []
    },
    {
      "cell_type": "code",
      "metadata": {
        "id": "8MoTb4QX4jJq",
        "colab": {
          "base_uri": "https://localhost:8080/"
        },
        "outputId": "e7c81985-5dd1-4143-f3af-2ed0234a2124"
      },
      "source": [
        "if not SKIP_STEP_DAWEA:\n",
        "    df_train = augment_df_with_nlpaug(\n",
        "        df_train,\n",
        "        content='Content',\n",
        "        target='Target',\n",
        "        test_fun=False # True, devuelve el primer comentario del df augmentado para poder observar\n",
        "        )"
      ],
      "execution_count": 22,
      "outputs": [
        {
          "output_type": "stream",
          "text": [
            "2224it [03:31, 10.49it/s]\n"
          ],
          "name": "stderr"
        }
      ]
    },
    {
      "cell_type": "markdown",
      "metadata": {
        "id": "-nO3Lw66bAfV"
      },
      "source": [
        "# Data Shape"
      ]
    },
    {
      "cell_type": "code",
      "metadata": {
        "id": "Dp3B9snwmCd-",
        "colab": {
          "base_uri": "https://localhost:8080/"
        },
        "outputId": "2589512b-3528-4778-eee3-50d028bfdda4"
      },
      "source": [
        "df_train.shape, df_val.shape, df_test.shape"
      ],
      "execution_count": 23,
      "outputs": [
        {
          "output_type": "execute_result",
          "data": {
            "text/plain": [
              "((2689, 4), (1390, 4), (1390, 4))"
            ]
          },
          "metadata": {
            "tags": []
          },
          "execution_count": 23
        }
      ]
    },
    {
      "cell_type": "markdown",
      "metadata": {
        "id": "hRmqosD6bDMO"
      },
      "source": [
        "# Create Dataloader"
      ]
    },
    {
      "cell_type": "code",
      "metadata": {
        "id": "YiDN4ZbxmNAw",
        "colab": {
          "base_uri": "https://localhost:8080/"
        },
        "outputId": "9e99dc09-1f51-4739-e844-efd76dbea5e9"
      },
      "source": [
        "def create_data_loader(df, tokenizer, max_len, batch_size):\n",
        "    ds = GPReviewDataset(\n",
        "        review=df['Content'].to_numpy(),\n",
        "        target=df['Target'].to_numpy(),\n",
        "        tokenizer=tokenizer,\n",
        "        max_len=max_len\n",
        "    )\n",
        "\n",
        "    return data.DataLoader(\n",
        "        ds,\n",
        "        batch_size=batch_size,\n",
        "        num_workers=4\n",
        "    )\n",
        "\n",
        "train_data_loader = create_data_loader(df_train, tokenizer, MAX_LEN, BATCH_SIZE)\n",
        "val_data_loader = create_data_loader(df_val, tokenizer, MAX_LEN, BATCH_SIZE)\n",
        "test_data_loader = create_data_loader(df_test, tokenizer, MAX_LEN, BATCH_SIZE)\n",
        "\n",
        "print(len(val_data_loader) * BATCH_SIZE)\n",
        "print(len(df_val['Target']))\n",
        "\n",
        "data_batch = next(iter(train_data_loader)) # Returns a batch\n",
        "print(\"BATCH CHECK\")\n",
        "print(\"-\" * 40)\n",
        "print(\"Batch keys:\")\n",
        "print(data_batch.keys())\n",
        "print(\"-\" * 40)\n",
        "print(\"Batch input\")\n",
        "print(data_batch['input_ids'])\n",
        "print(\"-\" * 40)\n",
        "print(\"Batch Targets\")\n",
        "print(data_batch['targets'])"
      ],
      "execution_count": 24,
      "outputs": [
        {
          "output_type": "stream",
          "text": [
            "1408\n",
            "1390\n",
            "BATCH CHECK\n",
            "----------------------------------------\n",
            "Batch keys:\n",
            "dict_keys(['review_text', 'input_ids', 'attention_mask', 'targets'])\n",
            "----------------------------------------\n",
            "Batch input\n",
            "tensor([[    4,  6850,  1127,  ...,     1,     1,     1],\n",
            "        [    4,  1177, 14259,  ...,     1,     1,     1],\n",
            "        [    4, 21716, 30933,  ...,     1,     1,     1],\n",
            "        ...,\n",
            "        [    4,  8395,  1674,  ...,     1,     1,     1],\n",
            "        [    4,  2717, 15217,  ...,     1,     1,     1],\n",
            "        [    4, 10182,  2988,  ...,  7345,  1008,     5]])\n",
            "----------------------------------------\n",
            "Batch Targets\n",
            "tensor([0, 2, 1, 0, 3, 2, 2, 0, 1, 2, 1, 2, 2, 3, 2, 2, 0, 0, 2, 2, 0, 2, 0, 1,\n",
            "        2, 1, 2, 1, 0, 2, 0, 2, 2, 2, 0, 2, 2, 1, 1, 0, 3, 1, 3, 2, 2, 0, 1, 1,\n",
            "        2, 2, 2, 2, 2, 1, 0, 2, 0, 3, 0, 3, 2, 2, 1, 1])\n"
          ],
          "name": "stdout"
        }
      ]
    },
    {
      "cell_type": "markdown",
      "metadata": {
        "id": "zptl8YOXn50l"
      },
      "source": [
        "# Building Classifier"
      ]
    },
    {
      "cell_type": "code",
      "metadata": {
        "id": "WuhsU6VJn2yi"
      },
      "source": [
        "class ReviewClassifier(nn.Module):\n",
        "\n",
        "    def __init__(self, n_classes):\n",
        "        super(ReviewClassifier, self).__init__()\n",
        "        self.bert = transformers.BertModel.from_pretrained(BERT_HUGGINGFACE_PRE_TRAINED_MODEL_NAME)\n",
        "        self.drop = nn.Dropout(p=0.3)\n",
        "        self.out = nn.Linear(self.bert.config.hidden_size, n_classes) # = Dense en keras\n",
        "\n",
        "    def forward(self, input_ids, attention_mask):\n",
        "        _, pooled_output = self.bert(\n",
        "            input_ids=input_ids,\n",
        "            attention_mask=attention_mask\n",
        "        )\n",
        "        output = self.drop(pooled_output)\n",
        "\n",
        "        return self.out(output)"
      ],
      "execution_count": 25,
      "outputs": []
    },
    {
      "cell_type": "code",
      "metadata": {
        "id": "mftlA4GCoZKp",
        "colab": {
          "base_uri": "https://localhost:8080/",
          "height": 116,
          "referenced_widgets": [
            "1675f0431c1246c7aef16b9b04a2e838",
            "e28e07d748f64055aaa5057d2fe80219",
            "151f64f81f53492e9d0ec1becd8d1aa5",
            "ebdb58ee30a445ffb31e461d18488101",
            "d6cd66f9fd424f7da724cb3ef8adf558",
            "5198c00b6d9d4ba3a95f19a76b83345d",
            "26b10f567e354139a17f3bf90adf614e",
            "ef7c1e5926d44142a9a703bf6e3753d9",
            "60d07ba7c98042679140415ab02889cf",
            "ea66eee848214fb6a56b69062f44a1bb",
            "7e51c6b30bfb4a998e3732e0db986b93",
            "cdcf008b7c874384803c24ecfdc7c256",
            "bbb9ea606fe6495f9f5ed1fd1eba6e95",
            "d827ec136445446b87503843f3c50873",
            "6e6a7c4aed6647279422289fe0dd2a57",
            "d2d9bf9c4e144f53be7e5ae5cb26b114"
          ]
        },
        "outputId": "8f1414b6-5221-4ebd-9a38-ed78674e9033"
      },
      "source": [
        "N_CLASSES = 4\n",
        "model = ReviewClassifier(N_CLASSES)\n",
        "model = model.to(device)"
      ],
      "execution_count": 26,
      "outputs": [
        {
          "output_type": "display_data",
          "data": {
            "application/vnd.jupyter.widget-view+json": {
              "model_id": "1675f0431c1246c7aef16b9b04a2e838",
              "version_minor": 0,
              "version_major": 2
            },
            "text/plain": [
              "HBox(children=(FloatProgress(value=0.0, description='Downloading', max=456.0, style=ProgressStyle(description_…"
            ]
          },
          "metadata": {
            "tags": []
          }
        },
        {
          "output_type": "stream",
          "text": [
            "\n"
          ],
          "name": "stdout"
        },
        {
          "output_type": "display_data",
          "data": {
            "application/vnd.jupyter.widget-view+json": {
              "model_id": "60d07ba7c98042679140415ab02889cf",
              "version_minor": 0,
              "version_major": 2
            },
            "text/plain": [
              "HBox(children=(FloatProgress(value=0.0, description='Downloading', max=441944381.0, style=ProgressStyle(descri…"
            ]
          },
          "metadata": {
            "tags": []
          }
        },
        {
          "output_type": "stream",
          "text": [
            "\n"
          ],
          "name": "stdout"
        }
      ]
    },
    {
      "cell_type": "markdown",
      "metadata": {
        "id": "smOo3_ODo3Lg"
      },
      "source": [
        "# Training"
      ]
    },
    {
      "cell_type": "code",
      "metadata": {
        "id": "yoQpM4Qdpa-8"
      },
      "source": [
        "optimizer = transformers.AdamW(model.parameters(), lr=2e-5, correct_bias=False) # based in BERT paper\n",
        "\n",
        "total_steps = len(train_data_loader) * EPOCHS # BATCH * EPOCHS\n",
        "\n",
        "scheduler = transformers.get_linear_schedule_with_warmup(\n",
        "    optimizer,\n",
        "    num_warmup_steps=0,\n",
        "    num_training_steps=total_steps\n",
        ")\n",
        "\n",
        "loss_fn = nn.CrossEntropyLoss().to(device)\n",
        "loss_fn.requres_grad = True"
      ],
      "execution_count": 27,
      "outputs": []
    },
    {
      "cell_type": "code",
      "metadata": {
        "id": "fiJ1-L5qqHDK"
      },
      "source": [
        "def train_epoch(\n",
        "    model,\n",
        "    data_loader,\n",
        "    loss_fn,\n",
        "    optimizer,\n",
        "    device,\n",
        "    scheduler,\n",
        "    n_examples\n",
        "):\n",
        "    model = model.train()\n",
        "\n",
        "    losses = []\n",
        "    correct_predictions = 0\n",
        "\n",
        "    for d in tqdm(data_loader):\n",
        "        input_ids = d['input_ids'].to(device)\n",
        "        attention_mask = d['attention_mask'].to(device)\n",
        "        targets = d['targets'].to(device)\n",
        "\n",
        "        outputs = model(\n",
        "            input_ids=input_ids,\n",
        "            attention_mask=attention_mask\n",
        "        )\n",
        "\n",
        "        _, preds = torch.max(outputs, dim=1)\n",
        "        loss = loss_fn(outputs, targets)\n",
        "\n",
        "        correct_predictions += torch.sum(preds == targets)\n",
        "        losses.append(loss.item())\n",
        "\n",
        "        loss.backward()\n",
        "\n",
        "        nn.utils.clip_grad_norm_(model.parameters(), max_norm=1.0) # If gradients are to large, the training is unstable, so gradient clipping fixes this\n",
        "        optimizer.step()\n",
        "        scheduler.step()\n",
        "        optimizer.zero_grad()\n",
        "\n",
        "    return correct_predictions.double() / n_examples, np.mean(losses)"
      ],
      "execution_count": 28,
      "outputs": []
    },
    {
      "cell_type": "code",
      "metadata": {
        "id": "dHEuSa1jqOVP"
      },
      "source": [
        "def eval_model(model, data_loader, loss_fn, device, n_examples):\n",
        "  model = model.eval()\n",
        "  losses = []\n",
        "  correct_predictions = 0\n",
        "  with torch.no_grad():\n",
        "    for d in tqdm(data_loader):\n",
        "      input_ids = d[\"input_ids\"].to(device)\n",
        "      attention_mask = d[\"attention_mask\"].to(device)\n",
        "      targets = d[\"targets\"].to(device)\n",
        "      outputs = model(\n",
        "        input_ids=input_ids,\n",
        "        attention_mask=attention_mask\n",
        "      )\n",
        "\n",
        "      _, preds = torch.max(outputs, dim=1)\n",
        "\n",
        "      loss = loss_fn(outputs, targets)\n",
        "      correct_predictions += torch.sum(preds == targets)\n",
        "\n",
        "      losses.append(loss.item())\n",
        "  return correct_predictions.double() / n_examples, np.mean(losses)"
      ],
      "execution_count": 29,
      "outputs": []
    },
    {
      "cell_type": "code",
      "metadata": {
        "id": "tY2iAvMsqRt3",
        "colab": {
          "base_uri": "https://localhost:8080/"
        },
        "outputId": "4c121e1f-3e03-4fab-9b54-222cf2b6f966"
      },
      "source": [
        "%%time\n",
        "\n",
        "history = defaultdict(list)\n",
        "best_accuracy = 0\n",
        "\n",
        "for epoch in range(EPOCHS):\n",
        "\n",
        "    print()\n",
        "    print()\n",
        "    print(f'Epoch {epoch + 1}/{EPOCHS}')\n",
        "    print('-' * 10)\n",
        "    print()\n",
        "\n",
        "    train_acc, train_loss = train_epoch(\n",
        "        model,\n",
        "        train_data_loader,\n",
        "        loss_fn,\n",
        "        optimizer,\n",
        "        device,\n",
        "        scheduler,\n",
        "        len(train_data_loader)*BATCH_SIZE\n",
        "    )\n",
        "\n",
        "    val_acc, val_loss = eval_model(\n",
        "        model,\n",
        "        val_data_loader,\n",
        "        loss_fn,\n",
        "        device,\n",
        "        len(val_data_loader) * BATCH_SIZE\n",
        "    )\n",
        "\n",
        "    print()\n",
        "    print(f'Train   loss {train_loss} accuracy {train_acc}')\n",
        "    print(f'Val     loss {val_loss} accuracy {val_acc}')\n",
        "    print()\n",
        "\n",
        "    history['train_acc'].append(train_acc)\n",
        "    history['train_loss'].append(train_loss)\n",
        "\n",
        "    if val_acc > best_accuracy:\n",
        "        torch.save(model.state_dict(), 'model.bin')\n",
        "        best_accuracy = val_acc"
      ],
      "execution_count": 30,
      "outputs": [
        {
          "output_type": "stream",
          "text": [
            "\r  0%|          | 0/43 [00:00<?, ?it/s]"
          ],
          "name": "stderr"
        },
        {
          "output_type": "stream",
          "text": [
            "\n",
            "\n",
            "Epoch 1/16\n",
            "----------\n",
            "\n"
          ],
          "name": "stdout"
        },
        {
          "output_type": "stream",
          "text": [
            "100%|██████████| 43/43 [00:29<00:00,  1.47it/s]\n",
            "100%|██████████| 22/22 [00:05<00:00,  3.85it/s]\n"
          ],
          "name": "stderr"
        },
        {
          "output_type": "stream",
          "text": [
            "\n",
            "Train   loss 1.1429270755412966 accuracy 0.5221656976744186\n",
            "Val     loss 0.7585899775678461 accuracy 0.7137784090909091\n",
            "\n"
          ],
          "name": "stdout"
        },
        {
          "output_type": "stream",
          "text": [
            "\r  0%|          | 0/43 [00:00<?, ?it/s]"
          ],
          "name": "stderr"
        },
        {
          "output_type": "stream",
          "text": [
            "\n",
            "\n",
            "Epoch 2/16\n",
            "----------\n",
            "\n"
          ],
          "name": "stdout"
        },
        {
          "output_type": "stream",
          "text": [
            "100%|██████████| 43/43 [00:30<00:00,  1.43it/s]\n",
            "100%|██████████| 22/22 [00:05<00:00,  3.80it/s]\n"
          ],
          "name": "stderr"
        },
        {
          "output_type": "stream",
          "text": [
            "\n",
            "Train   loss 0.69899934322335 accuracy 0.7242005813953488\n",
            "Val     loss 0.4421556727452712 accuracy 0.8274147727272727\n",
            "\n"
          ],
          "name": "stdout"
        },
        {
          "output_type": "stream",
          "text": [
            "\r  0%|          | 0/43 [00:00<?, ?it/s]"
          ],
          "name": "stderr"
        },
        {
          "output_type": "stream",
          "text": [
            "\n",
            "\n",
            "Epoch 3/16\n",
            "----------\n",
            "\n"
          ],
          "name": "stdout"
        },
        {
          "output_type": "stream",
          "text": [
            "100%|██████████| 43/43 [00:31<00:00,  1.37it/s]\n",
            "100%|██████████| 22/22 [00:06<00:00,  3.54it/s]\n"
          ],
          "name": "stderr"
        },
        {
          "output_type": "stream",
          "text": [
            "\n",
            "Train   loss 0.43254494831659074 accuracy 0.8284883720930233\n",
            "Val     loss 0.26408686725930736 accuracy 0.9055397727272727\n",
            "\n"
          ],
          "name": "stdout"
        },
        {
          "output_type": "stream",
          "text": [
            "\r  0%|          | 0/43 [00:00<?, ?it/s]"
          ],
          "name": "stderr"
        },
        {
          "output_type": "stream",
          "text": [
            "\n",
            "\n",
            "Epoch 4/16\n",
            "----------\n",
            "\n"
          ],
          "name": "stdout"
        },
        {
          "output_type": "stream",
          "text": [
            "100%|██████████| 43/43 [00:31<00:00,  1.35it/s]\n",
            "100%|██████████| 22/22 [00:06<00:00,  3.66it/s]\n"
          ],
          "name": "stderr"
        },
        {
          "output_type": "stream",
          "text": [
            "\n",
            "Train   loss 0.2844464259092198 accuracy 0.889171511627907\n",
            "Val     loss 0.22064740447835487 accuracy 0.9169034090909092\n",
            "\n"
          ],
          "name": "stdout"
        },
        {
          "output_type": "stream",
          "text": [
            "\r  0%|          | 0/43 [00:00<?, ?it/s]"
          ],
          "name": "stderr"
        },
        {
          "output_type": "stream",
          "text": [
            "\n",
            "\n",
            "Epoch 5/16\n",
            "----------\n",
            "\n"
          ],
          "name": "stdout"
        },
        {
          "output_type": "stream",
          "text": [
            "100%|██████████| 43/43 [00:31<00:00,  1.37it/s]\n",
            "100%|██████████| 22/22 [00:06<00:00,  3.60it/s]\n"
          ],
          "name": "stderr"
        },
        {
          "output_type": "stream",
          "text": [
            "\n",
            "Train   loss 0.20654680912361242 accuracy 0.9058866279069767\n",
            "Val     loss 0.14694177376275713 accuracy 0.9389204545454546\n",
            "\n"
          ],
          "name": "stdout"
        },
        {
          "output_type": "stream",
          "text": [
            "\r  0%|          | 0/43 [00:00<?, ?it/s]"
          ],
          "name": "stderr"
        },
        {
          "output_type": "stream",
          "text": [
            "\n",
            "\n",
            "Epoch 6/16\n",
            "----------\n",
            "\n"
          ],
          "name": "stdout"
        },
        {
          "output_type": "stream",
          "text": [
            "100%|██████████| 43/43 [00:31<00:00,  1.35it/s]\n",
            "100%|██████████| 22/22 [00:06<00:00,  3.61it/s]\n",
            "  0%|          | 0/43 [00:00<?, ?it/s]"
          ],
          "name": "stderr"
        },
        {
          "output_type": "stream",
          "text": [
            "\n",
            "Train   loss 0.16050685473262918 accuracy 0.9240552325581395\n",
            "Val     loss 0.13681999577040022 accuracy 0.9311079545454546\n",
            "\n",
            "\n",
            "\n",
            "Epoch 7/16\n",
            "----------\n",
            "\n"
          ],
          "name": "stdout"
        },
        {
          "output_type": "stream",
          "text": [
            "100%|██████████| 43/43 [00:31<00:00,  1.37it/s]\n",
            "100%|██████████| 22/22 [00:06<00:00,  3.61it/s]\n"
          ],
          "name": "stderr"
        },
        {
          "output_type": "stream",
          "text": [
            "\n",
            "Train   loss 0.13852822549944355 accuracy 0.9276889534883721\n",
            "Val     loss 0.11023487751795487 accuracy 0.9460227272727273\n",
            "\n"
          ],
          "name": "stdout"
        },
        {
          "output_type": "stream",
          "text": [
            "\r  0%|          | 0/43 [00:00<?, ?it/s]"
          ],
          "name": "stderr"
        },
        {
          "output_type": "stream",
          "text": [
            "\n",
            "\n",
            "Epoch 8/16\n",
            "----------\n",
            "\n"
          ],
          "name": "stdout"
        },
        {
          "output_type": "stream",
          "text": [
            "100%|██████████| 43/43 [00:31<00:00,  1.36it/s]\n",
            "100%|██████████| 22/22 [00:06<00:00,  3.58it/s]\n"
          ],
          "name": "stderr"
        },
        {
          "output_type": "stream",
          "text": [
            "\n",
            "Train   loss 0.11224443378565876 accuracy 0.9364098837209303\n",
            "Val     loss 0.11066189332103188 accuracy 0.9481534090909092\n",
            "\n"
          ],
          "name": "stdout"
        },
        {
          "output_type": "stream",
          "text": [
            "\r  0%|          | 0/43 [00:00<?, ?it/s]"
          ],
          "name": "stderr"
        },
        {
          "output_type": "stream",
          "text": [
            "\n",
            "\n",
            "Epoch 9/16\n",
            "----------\n",
            "\n"
          ],
          "name": "stdout"
        },
        {
          "output_type": "stream",
          "text": [
            "100%|██████████| 43/43 [00:31<00:00,  1.36it/s]\n",
            "100%|██████████| 22/22 [00:06<00:00,  3.62it/s]\n",
            "  0%|          | 0/43 [00:00<?, ?it/s]"
          ],
          "name": "stderr"
        },
        {
          "output_type": "stream",
          "text": [
            "\n",
            "Train   loss 0.10104478888625149 accuracy 0.9364098837209303\n",
            "Val     loss 0.10313028139485554 accuracy 0.9474431818181819\n",
            "\n",
            "\n",
            "\n",
            "Epoch 10/16\n",
            "----------\n",
            "\n"
          ],
          "name": "stdout"
        },
        {
          "output_type": "stream",
          "text": [
            "100%|██████████| 43/43 [00:31<00:00,  1.36it/s]\n",
            "100%|██████████| 22/22 [00:06<00:00,  3.60it/s]\n"
          ],
          "name": "stderr"
        },
        {
          "output_type": "stream",
          "text": [
            "\n",
            "Train   loss 0.0971173089604045 accuracy 0.9396802325581395\n",
            "Val     loss 0.09922333214093339 accuracy 0.9524147727272727\n",
            "\n"
          ],
          "name": "stdout"
        },
        {
          "output_type": "stream",
          "text": [
            "\r  0%|          | 0/43 [00:00<?, ?it/s]"
          ],
          "name": "stderr"
        },
        {
          "output_type": "stream",
          "text": [
            "\n",
            "\n",
            "Epoch 11/16\n",
            "----------\n",
            "\n"
          ],
          "name": "stdout"
        },
        {
          "output_type": "stream",
          "text": [
            "100%|██████████| 43/43 [00:31<00:00,  1.36it/s]\n",
            "100%|██████████| 22/22 [00:06<00:00,  3.61it/s]\n",
            "  0%|          | 0/43 [00:00<?, ?it/s]"
          ],
          "name": "stderr"
        },
        {
          "output_type": "stream",
          "text": [
            "\n",
            "Train   loss 0.08992363994150575 accuracy 0.9400436046511628\n",
            "Val     loss 0.0973466959443282 accuracy 0.9509943181818182\n",
            "\n",
            "\n",
            "\n",
            "Epoch 12/16\n",
            "----------\n",
            "\n"
          ],
          "name": "stdout"
        },
        {
          "output_type": "stream",
          "text": [
            "100%|██████████| 43/43 [00:31<00:00,  1.37it/s]\n",
            "100%|██████████| 22/22 [00:06<00:00,  3.59it/s]\n",
            "  0%|          | 0/43 [00:00<?, ?it/s]"
          ],
          "name": "stderr"
        },
        {
          "output_type": "stream",
          "text": [
            "\n",
            "Train   loss 0.07862647264914284 accuracy 0.9473110465116279\n",
            "Val     loss 0.09548849891871214 accuracy 0.9502840909090909\n",
            "\n",
            "\n",
            "\n",
            "Epoch 13/16\n",
            "----------\n",
            "\n"
          ],
          "name": "stdout"
        },
        {
          "output_type": "stream",
          "text": [
            "100%|██████████| 43/43 [00:31<00:00,  1.37it/s]\n",
            "100%|██████████| 22/22 [00:06<00:00,  3.59it/s]\n"
          ],
          "name": "stderr"
        },
        {
          "output_type": "stream",
          "text": [
            "\n",
            "Train   loss 0.07449279620507082 accuracy 0.9458575581395349\n",
            "Val     loss 0.0928254906850105 accuracy 0.953125\n",
            "\n"
          ],
          "name": "stdout"
        },
        {
          "output_type": "stream",
          "text": [
            "\r  0%|          | 0/43 [00:00<?, ?it/s]"
          ],
          "name": "stderr"
        },
        {
          "output_type": "stream",
          "text": [
            "\n",
            "\n",
            "Epoch 14/16\n",
            "----------\n",
            "\n"
          ],
          "name": "stdout"
        },
        {
          "output_type": "stream",
          "text": [
            "100%|██████████| 43/43 [00:31<00:00,  1.36it/s]\n",
            "100%|██████████| 22/22 [00:06<00:00,  3.57it/s]\n"
          ],
          "name": "stderr"
        },
        {
          "output_type": "stream",
          "text": [
            "\n",
            "Train   loss 0.06905831701696179 accuracy 0.9509447674418604\n",
            "Val     loss 0.09117605681107803 accuracy 0.9538352272727273\n",
            "\n"
          ],
          "name": "stdout"
        },
        {
          "output_type": "stream",
          "text": [
            "\r  0%|          | 0/43 [00:00<?, ?it/s]"
          ],
          "name": "stderr"
        },
        {
          "output_type": "stream",
          "text": [
            "\n",
            "\n",
            "Epoch 15/16\n",
            "----------\n",
            "\n"
          ],
          "name": "stdout"
        },
        {
          "output_type": "stream",
          "text": [
            "100%|██████████| 43/43 [00:31<00:00,  1.36it/s]\n",
            "100%|██████████| 22/22 [00:06<00:00,  3.59it/s]\n",
            "  0%|          | 0/43 [00:00<?, ?it/s]"
          ],
          "name": "stderr"
        },
        {
          "output_type": "stream",
          "text": [
            "\n",
            "Train   loss 0.06624096654474648 accuracy 0.9520348837209303\n",
            "Val     loss 0.09007107970220121 accuracy 0.9538352272727273\n",
            "\n",
            "\n",
            "\n",
            "Epoch 16/16\n",
            "----------\n",
            "\n"
          ],
          "name": "stdout"
        },
        {
          "output_type": "stream",
          "text": [
            "100%|██████████| 43/43 [00:31<00:00,  1.37it/s]\n",
            "100%|██████████| 22/22 [00:06<00:00,  3.59it/s]"
          ],
          "name": "stderr"
        },
        {
          "output_type": "stream",
          "text": [
            "\n",
            "Train   loss 0.06543204326556216 accuracy 0.9505813953488372\n",
            "Val     loss 0.0889006479727951 accuracy 0.9538352272727273\n",
            "\n",
            "CPU times: user 5min 41s, sys: 4min 13s, total: 9min 55s\n",
            "Wall time: 10min 13s\n"
          ],
          "name": "stdout"
        },
        {
          "output_type": "stream",
          "text": [
            "\n"
          ],
          "name": "stderr"
        }
      ]
    },
    {
      "cell_type": "code",
      "metadata": {
        "colab": {
          "base_uri": "https://localhost:8080/",
          "height": 16
        },
        "id": "iDxnHb-eJ8mm",
        "outputId": "d1e15d5f-c245-49e7-b963-e8210a4d8073"
      },
      "source": [
        "if DOWNLOAD_MODEL:\n",
        "    files.download('model.bin')"
      ],
      "execution_count": 33,
      "outputs": [
        {
          "output_type": "display_data",
          "data": {
            "application/javascript": [
              "\n",
              "    async function download(id, filename, size) {\n",
              "      if (!google.colab.kernel.accessAllowed) {\n",
              "        return;\n",
              "      }\n",
              "      const div = document.createElement('div');\n",
              "      const label = document.createElement('label');\n",
              "      label.textContent = `Downloading \"${filename}\": `;\n",
              "      div.appendChild(label);\n",
              "      const progress = document.createElement('progress');\n",
              "      progress.max = size;\n",
              "      div.appendChild(progress);\n",
              "      document.body.appendChild(div);\n",
              "\n",
              "      const buffers = [];\n",
              "      let downloaded = 0;\n",
              "\n",
              "      const channel = await google.colab.kernel.comms.open(id);\n",
              "      // Send a message to notify the kernel that we're ready.\n",
              "      channel.send({})\n",
              "\n",
              "      for await (const message of channel.messages) {\n",
              "        // Send a message to notify the kernel that we're ready.\n",
              "        channel.send({})\n",
              "        if (message.buffers) {\n",
              "          for (const buffer of message.buffers) {\n",
              "            buffers.push(buffer);\n",
              "            downloaded += buffer.byteLength;\n",
              "            progress.value = downloaded;\n",
              "          }\n",
              "        }\n",
              "      }\n",
              "      const blob = new Blob(buffers, {type: 'application/binary'});\n",
              "      const a = document.createElement('a');\n",
              "      a.href = window.URL.createObjectURL(blob);\n",
              "      a.download = filename;\n",
              "      div.appendChild(a);\n",
              "      a.click();\n",
              "      div.remove();\n",
              "    }\n",
              "  "
            ],
            "text/plain": [
              "<IPython.core.display.Javascript object>"
            ]
          },
          "metadata": {
            "tags": []
          }
        },
        {
          "output_type": "display_data",
          "data": {
            "application/javascript": [
              "download(\"download_7b2cdb63-9d36-46e1-9199-bcdc13df2dc2\", \"model.bin\", 439503127)"
            ],
            "text/plain": [
              "<IPython.core.display.Javascript object>"
            ]
          },
          "metadata": {
            "tags": []
          }
        }
      ]
    },
    {
      "cell_type": "markdown",
      "metadata": {
        "id": "G_Z0tmBK_SdT"
      },
      "source": [
        "# Evaluation"
      ]
    },
    {
      "cell_type": "code",
      "metadata": {
        "id": "SAhiZWl55wfI"
      },
      "source": [
        "def get_reviews(model, data_loader):\n",
        "    model = model.eval()\n",
        "\n",
        "    review_texts = []\n",
        "    predictions = []\n",
        "    prediction_probs = []\n",
        "    real_values = []\n",
        "\n",
        "    with torch.no_grad():\n",
        "        for d in data_loader:\n",
        "\n",
        "            texts = d['review_text']\n",
        "            input_ids = d['input_ids'].to(device)\n",
        "            attention_mask = d['attention_mask'].to(device)\n",
        "            targets = d['targets'].to(device)\n",
        "\n",
        "            outputs = model(\n",
        "                input_ids=input_ids,\n",
        "                attention_mask=attention_mask\n",
        "            )\n",
        "\n",
        "            _, preds = torch.max(outputs, dim=1)\n",
        "            \n",
        "            review_texts.extend(texts)\n",
        "            predictions.extend(preds)\n",
        "            prediction_probs.extend(outputs)\n",
        "            real_values.extend(targets)\n",
        "\n",
        "    predictions = torch.stack(predictions).cpu()\n",
        "    prediction_probs = torch.stack(prediction_probs).cpu()\n",
        "    real_values = torch.stack(real_values).cpu()\n",
        "\n",
        "    return review_texts, predictions, prediction_probs, real_values"
      ],
      "execution_count": 34,
      "outputs": []
    },
    {
      "cell_type": "code",
      "metadata": {
        "id": "cNw8q5-V_abg"
      },
      "source": [
        "model = ReviewClassifier(N_CLASSES)\n",
        "model.load_state_dict(torch.load('model.bin'))\n",
        "model = model.to(device)"
      ],
      "execution_count": 35,
      "outputs": []
    },
    {
      "cell_type": "code",
      "metadata": {
        "id": "JyI0iCs9_eh6",
        "colab": {
          "base_uri": "https://localhost:8080/"
        },
        "outputId": "948d6ee3-b518-42a8-bafb-d242fea1317d"
      },
      "source": [
        "test_acc, test_loss = eval_model(model, test_data_loader, loss_fn, device, len(df_test))"
      ],
      "execution_count": 36,
      "outputs": [
        {
          "output_type": "stream",
          "text": [
            "100%|██████████| 22/22 [00:06<00:00,  3.62it/s]\n"
          ],
          "name": "stderr"
        }
      ]
    },
    {
      "cell_type": "code",
      "metadata": {
        "id": "xREGEEMY_5Ja",
        "colab": {
          "base_uri": "https://localhost:8080/"
        },
        "outputId": "f8bde1b6-c4d2-4e9f-80e3-a911332f6e19"
      },
      "source": [
        "print(test_acc)"
      ],
      "execution_count": 37,
      "outputs": [
        {
          "output_type": "stream",
          "text": [
            "tensor(0.8734, device='cuda:0', dtype=torch.float64)\n"
          ],
          "name": "stdout"
        }
      ]
    },
    {
      "cell_type": "code",
      "metadata": {
        "id": "a2O7xqZ__kEZ"
      },
      "source": [
        "y_review_texts, y_pred, y_pred_probs, y_test = get_reviews(model, test_data_loader)"
      ],
      "execution_count": 38,
      "outputs": []
    },
    {
      "cell_type": "code",
      "metadata": {
        "id": "Z6trJxoY_wWG"
      },
      "source": [
        "from sklearn.metrics import confusion_matrix, classification_report\n"
      ],
      "execution_count": 39,
      "outputs": []
    },
    {
      "cell_type": "code",
      "metadata": {
        "id": "HyCwZfeY_qlf",
        "colab": {
          "base_uri": "https://localhost:8080/"
        },
        "outputId": "989b4391-d169-401f-a2ed-4495295025e8"
      },
      "source": [
        "print(classification_report(y_test, y_pred))"
      ],
      "execution_count": 40,
      "outputs": [
        {
          "output_type": "stream",
          "text": [
            "              precision    recall  f1-score   support\n",
            "\n",
            "           0       0.80      0.71      0.76       235\n",
            "           1       0.90      0.90      0.90       368\n",
            "           2       0.90      0.91      0.90       601\n",
            "           3       0.83      0.90      0.86       186\n",
            "\n",
            "    accuracy                           0.87      1390\n",
            "   macro avg       0.86      0.86      0.86      1390\n",
            "weighted avg       0.87      0.87      0.87      1390\n",
            "\n"
          ],
          "name": "stdout"
        }
      ]
    },
    {
      "cell_type": "code",
      "metadata": {
        "id": "G3nj9LCp_s8A"
      },
      "source": [
        "def show_confusion_matrix(confusion_matrix):\n",
        "    hmap = sns.heatmap(confusion_matrix, annot=True, fmt=\"d\", cmap=\"Blues\")\n",
        "    hmap.yaxis.set_ticklabels(hmap.yaxis.get_ticklabels(), rotation=0, ha='right')\n",
        "    hmap.xaxis.set_ticklabels(hmap.xaxis.get_ticklabels(), rotation=30, ha='right')\n",
        "    plt.ylabel('True sentiment')\n",
        "    plt.xlabel('Predicted sentiment')"
      ],
      "execution_count": 41,
      "outputs": []
    },
    {
      "cell_type": "code",
      "metadata": {
        "id": "rccxYyIPAO_i",
        "colab": {
          "base_uri": "https://localhost:8080/",
          "height": 281
        },
        "outputId": "5a151295-e4a7-4c84-fc74-40a4095b87b2"
      },
      "source": [
        "cm = confusion_matrix(y_test, y_pred)\n",
        "df_cm = pd.DataFrame(cm)\n",
        "show_confusion_matrix(df_cm)"
      ],
      "execution_count": 42,
      "outputs": [
        {
          "output_type": "display_data",
          "data": {
            "image/png": "[encoded data removed]",
            "text/plain": [
              "<Figure size 432x288 with 2 Axes>"
            ]
          },
          "metadata": {
            "tags": [],
            "needs_background": "light"
          }
        }
      ]
    },
    {
      "cell_type": "markdown",
      "metadata": {
        "id": "y-OzUGC7AldO"
      },
      "source": [
        "# Real Example\n",
        "\n"
      ]
    },
    {
      "cell_type": "code",
      "metadata": {
        "id": "-vQIukNLAmwS",
        "colab": {
          "base_uri": "https://localhost:8080/"
        },
        "outputId": "d0f68b58-902e-4872-e88a-2d4ca6f77e55"
      },
      "source": [
        "review_text = 'En varias oportunidades me han despachado envíos que no corresponden'\n",
        "\n",
        "encoded_review = tokenizer.encode_plus(\n",
        "    review_text,\n",
        "    max_length=MAX_LEN,\n",
        "    add_special_tokens=True,\n",
        "    return_token_type_ids=False,\n",
        "    padding='max_length',\n",
        "    return_attention_mask=True,\n",
        "    return_tensors='pt'\n",
        ")\n",
        "\n",
        "input_ids = encoded_review['input_ids'].to(device)\n",
        "attention_mask = encoded_review['attention_mask'].to(device)\n",
        "\n",
        "output = model(input_ids, attention_mask)\n",
        "\n",
        "print(f\"\"\"Prediction value: {\n",
        "    output.tolist()[0][0], \n",
        "    output.tolist()[0][1],\n",
        "    output.tolist()[0][2],\n",
        "    output.tolist()[0][3]\n",
        "    }\"\"\")\n",
        "\n",
        "_, prediction = torch.max(output, dim=1)\n",
        "\n",
        "clases = ['Other', 'Service', 'App', 'App and Service']\n",
        "\n",
        "print(f'Review text: {review_text}')\n",
        "print(f'Category: {clases[prediction]}')"
      ],
      "execution_count": 43,
      "outputs": [
        {
          "output_type": "stream",
          "text": [
            "Prediction value: (-2.6946446895599365, 6.016759872436523, -2.2384836673736572, -1.6918046474456787)\n",
            "Review text: En varias oportunidades me han despachado envíos que no corresponden\n",
            "Category: Service\n"
          ],
          "name": "stdout"
        }
      ]
    }
  ]
}