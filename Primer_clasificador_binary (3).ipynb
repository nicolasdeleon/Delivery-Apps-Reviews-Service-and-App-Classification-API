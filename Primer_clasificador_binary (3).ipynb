{
  "nbformat": 4,
  "nbformat_minor": 0,
  "metadata": {
    "colab": {
      "name": "Primer-clasificador-binary.ipynb",
      "provenance": [],
      "collapsed_sections": [],
      "toc_visible": true
    },
    "kernelspec": {
      "name": "python3",
      "display_name": "Python 3"
    },
    "accelerator": "GPU"
  },
  "cells": [
    {
      "cell_type": "markdown",
      "metadata": {
        "id": "zkRuwwzRiQnm"
      },
      "source": [
        "# Base Notebook Delivery Apps Review Classification"
      ]
    },
    {
      "cell_type": "markdown",
      "metadata": {
        "id": "RRkv_kxaiVQd"
      },
      "source": [
        "# Imports, Global Variables and Downloads"
      ]
    },
    {
      "cell_type": "markdown",
      "metadata": {
        "id": "TdoQlTeIZjak"
      },
      "source": [
        "Transformers es la libreria que nos permite usar BERT\n",
        "\n",
        "\n",
        "nlpaug data augmentation"
      ]
    },
    {
      "cell_type": "code",
      "metadata": {
        "id": "Lj_69_t8k60p",
        "outputId": "0b4fea00-fedd-4ab5-aad6-2daf57a7bca9",
        "colab": {
          "base_uri": "https://localhost:8080/",
          "height": 392
        }
      },
      "source": [
        "!pip install transformers\n",
        "!pip install nlpaug"
      ],
      "execution_count": 1,
      "outputs": [
        {
          "output_type": "stream",
          "text": [
            "Requirement already satisfied: transformers in /usr/local/lib/python3.6/dist-packages (3.3.1)\n",
            "Requirement already satisfied: sentencepiece!=0.1.92 in /usr/local/lib/python3.6/dist-packages (from transformers) (0.1.91)\n",
            "Requirement already satisfied: tokenizers==0.8.1.rc2 in /usr/local/lib/python3.6/dist-packages (from transformers) (0.8.1rc2)\n",
            "Requirement already satisfied: tqdm>=4.27 in /usr/local/lib/python3.6/dist-packages (from transformers) (4.41.1)\n",
            "Requirement already satisfied: regex!=2019.12.17 in /usr/local/lib/python3.6/dist-packages (from transformers) (2019.12.20)\n",
            "Requirement already satisfied: requests in /usr/local/lib/python3.6/dist-packages (from transformers) (2.23.0)\n",
            "Requirement already satisfied: filelock in /usr/local/lib/python3.6/dist-packages (from transformers) (3.0.12)\n",
            "Requirement already satisfied: numpy in /usr/local/lib/python3.6/dist-packages (from transformers) (1.18.5)\n",
            "Requirement already satisfied: sacremoses in /usr/local/lib/python3.6/dist-packages (from transformers) (0.0.43)\n",
            "Requirement already satisfied: dataclasses; python_version < \"3.7\" in /usr/local/lib/python3.6/dist-packages (from transformers) (0.7)\n",
            "Requirement already satisfied: packaging in /usr/local/lib/python3.6/dist-packages (from transformers) (20.4)\n",
            "Requirement already satisfied: certifi>=2017.4.17 in /usr/local/lib/python3.6/dist-packages (from requests->transformers) (2020.6.20)\n",
            "Requirement already satisfied: chardet<4,>=3.0.2 in /usr/local/lib/python3.6/dist-packages (from requests->transformers) (3.0.4)\n",
            "Requirement already satisfied: idna<3,>=2.5 in /usr/local/lib/python3.6/dist-packages (from requests->transformers) (2.10)\n",
            "Requirement already satisfied: urllib3!=1.25.0,!=1.25.1,<1.26,>=1.21.1 in /usr/local/lib/python3.6/dist-packages (from requests->transformers) (1.24.3)\n",
            "Requirement already satisfied: joblib in /usr/local/lib/python3.6/dist-packages (from sacremoses->transformers) (0.16.0)\n",
            "Requirement already satisfied: click in /usr/local/lib/python3.6/dist-packages (from sacremoses->transformers) (7.1.2)\n",
            "Requirement already satisfied: six in /usr/local/lib/python3.6/dist-packages (from sacremoses->transformers) (1.15.0)\n",
            "Requirement already satisfied: pyparsing>=2.0.2 in /usr/local/lib/python3.6/dist-packages (from packaging->transformers) (2.4.7)\n",
            "Requirement already satisfied: nlpaug in /usr/local/lib/python3.6/dist-packages (1.0.1)\n"
          ],
          "name": "stdout"
        }
      ]
    },
    {
      "cell_type": "code",
      "metadata": {
        "id": "hHfJm3KXIWaK"
      },
      "source": [
        "import transformers\n",
        "import torch\n",
        "\n",
        "from google.colab import files\n",
        "\n",
        "from tqdm import tqdm\n",
        "\n",
        "import pandas as pd\n",
        "import numpy as np\n",
        "import seaborn as sns\n",
        "import matplotlib.pyplot as plt\n",
        "\n",
        "import nlpaug.augmenter.word as naw\n",
        "\n",
        "from collections import defaultdict\n",
        "\n",
        "from torch import nn\n",
        "\n",
        "from sklearn.metrics import confusion_matrix, classification_report\n",
        "from sklearn.utils import shuffle\n",
        "from sklearn.model_selection import train_test_split\n",
        "from torch.utils import data\n",
        "\n",
        "BERT_HUGGINGFACE_PRE_TRAINED_MODEL_NAME = 'dccuchile/bert-base-spanish-wwm-cased'\n",
        "\n",
        "MAX_LEN = 70\n",
        "BATCH_SIZE = 64 # 8 16 32 64 128 256\n",
        "EPOCHS = 4\n",
        "RANDOM_SEED = 42\n",
        "TARGET_CLASS = 'Support'\n",
        "DOWNLOAD_MODEL = False"
      ],
      "execution_count": 2,
      "outputs": []
    },
    {
      "cell_type": "markdown",
      "metadata": {
        "id": "NtqWdQTk2zjx"
      },
      "source": [
        "Downloading dataset"
      ]
    },
    {
      "cell_type": "code",
      "metadata": {
        "id": "Ne-1yhG2cTkm",
        "outputId": "096c0a88-d3ce-49cf-983c-0c5b949fd927",
        "colab": {
          "base_uri": "https://localhost:8080/",
          "height": 87
        }
      },
      "source": [
        "!gdown --id 16HheP0nKEJCxzsIE3jbWvt8Xz-pmtuuI --output review_dataset.csv"
      ],
      "execution_count": 3,
      "outputs": [
        {
          "output_type": "stream",
          "text": [
            "Downloading...\n",
            "From: https://drive.google.com/uc?id=16HheP0nKEJCxzsIE3jbWvt8Xz-pmtuuI\n",
            "To: /content/review_dataset.csv\n",
            "\r  0% 0.00/247k [00:00<?, ?B/s]\r100% 247k/247k [00:00<00:00, 39.6MB/s]\n"
          ],
          "name": "stdout"
        }
      ]
    },
    {
      "cell_type": "markdown",
      "metadata": {
        "id": "e4uz1yIx21j1"
      },
      "source": [
        "Downloading fasttext spanish word embedding for data augmentation"
      ]
    },
    {
      "cell_type": "code",
      "metadata": {
        "id": "0wN69dgjLT7l",
        "outputId": "5fb50cf3-d3e1-443c-d34a-607c48b0836b",
        "colab": {
          "base_uri": "https://localhost:8080/",
          "height": 87
        }
      },
      "source": [
        "!gdown --id 1ytY_Pr1XUy9v5abbOxBIHdcZ0GMJl1M2 --output fasttext-sbwc.vec"
      ],
      "execution_count": 4,
      "outputs": [
        {
          "output_type": "stream",
          "text": [
            "Downloading...\n",
            "From: https://drive.google.com/uc?id=1ytY_Pr1XUy9v5abbOxBIHdcZ0GMJl1M2\n",
            "To: /content/fasttext-sbwc.vec\n",
            "2.24GB [00:25, 87.1MB/s]\n"
          ],
          "name": "stdout"
        }
      ]
    },
    {
      "cell_type": "markdown",
      "metadata": {
        "id": "YomSvWhB26hi"
      },
      "source": [
        "Si no aparece la nvidia hay que ir a Runtime > Change Runtime type > GPU"
      ]
    },
    {
      "cell_type": "code",
      "metadata": {
        "id": "PpC4gBMWoPk3",
        "outputId": "52dc1482-5a9e-4543-8c90-1d385b273efe",
        "colab": {
          "base_uri": "https://localhost:8080/",
          "height": 372
        }
      },
      "source": [
        "!nvidia-smi"
      ],
      "execution_count": 5,
      "outputs": [
        {
          "output_type": "stream",
          "text": [
            "Tue Oct 20 03:05:27 2020       \n",
            "+-----------------------------------------------------------------------------+\n",
            "| NVIDIA-SMI 455.23.05    Driver Version: 418.67       CUDA Version: 10.1     |\n",
            "|-------------------------------+----------------------+----------------------+\n",
            "| GPU  Name        Persistence-M| Bus-Id        Disp.A | Volatile Uncorr. ECC |\n",
            "| Fan  Temp  Perf  Pwr:Usage/Cap|         Memory-Usage | GPU-Util  Compute M. |\n",
            "|                               |                      |               MIG M. |\n",
            "|===============================+======================+======================|\n",
            "|   0  Tesla T4            Off  | 00000000:00:04.0 Off |                    0 |\n",
            "| N/A   55C    P8    10W /  70W |     10MiB / 15079MiB |      0%      Default |\n",
            "|                               |                      |                 ERR! |\n",
            "+-------------------------------+----------------------+----------------------+\n",
            "                                                                               \n",
            "+-----------------------------------------------------------------------------+\n",
            "| Processes:                                                                  |\n",
            "|  GPU   GI   CI        PID   Type   Process name                  GPU Memory |\n",
            "|        ID   ID                                                   Usage      |\n",
            "|=============================================================================|\n",
            "|  No running processes found                                                 |\n",
            "+-----------------------------------------------------------------------------+\n"
          ],
          "name": "stdout"
        }
      ]
    },
    {
      "cell_type": "code",
      "metadata": {
        "id": "g1fh2QX6oS9g",
        "outputId": "8adb681c-ca60-4355-dcef-627b3ba75216",
        "colab": {
          "base_uri": "https://localhost:8080/",
          "height": 34
        }
      },
      "source": [
        "device = torch.device(\"cuda:0\" if torch.cuda.is_available() else \"cpu\")\n",
        "\n",
        "print(device)"
      ],
      "execution_count": 6,
      "outputs": [
        {
          "output_type": "stream",
          "text": [
            "cuda:0\n"
          ],
          "name": "stdout"
        }
      ]
    },
    {
      "cell_type": "markdown",
      "metadata": {
        "id": "MVdwLHyDidbl"
      },
      "source": [
        "# Choose dataset and classification target"
      ]
    },
    {
      "cell_type": "code",
      "metadata": {
        "id": "pfPETVALKTqr",
        "outputId": "0a646343-c47a-4e27-ed40-704a74bdb67c",
        "colab": {
          "base_uri": "https://localhost:8080/",
          "height": 425
        }
      },
      "source": [
        "def get_dataset_dataset(file, columns, index, convert2int64, naval=-1, preview=False):\n",
        "    \"\"\"Carga el csv de file\n",
        "    Completa las columnas con los valores requeridos\n",
        "    Pasa todos los valores numericos a int64.\n",
        "    Vuela el doble Index\n",
        "    Vuela todos los NaN: Poner el numero 'naval' para los valores null \"\"\"\n",
        "    df = pd.read_csv(file, names=columns)\n",
        "    df.set_index(index, inplace=True)\n",
        "\n",
        "    for col in convert2int64:\n",
        "        df[col] = df[col].fillna(naval)\n",
        "        df[col] = df[col].astype(np.float64)\n",
        "    \n",
        "    if preview:\n",
        "        print(df.head())\n",
        "        print('\\n', \"-------------------------\", '\\n')\n",
        "        print(df.info())\n",
        "    \n",
        "    return df\n",
        "\n",
        "df = get_dataset_dataset(\n",
        "    \"review_dataset.csv\",\n",
        "    [\"Index\", \"Content\", \"Sentiment\", \"App\", \"Service\", \"Support\"],\n",
        "    'Index',\n",
        "    convert2int64=['Sentiment', 'App', \"Service\", \"Support\"],\n",
        "    preview=True\n",
        ")"
      ],
      "execution_count": 7,
      "outputs": [
        {
          "output_type": "stream",
          "text": [
            "                                  Content  Sentiment  App  Service  Support\n",
            "Index                                                                      \n",
            "2094                Agilidad y protocolos        2.0 -1.0      2.0     -1.0\n",
            "474                              Exelente        2.0  2.0     -1.0     -1.0\n",
            "874       Muy buena recepcion de producto        2.0 -1.0      2.0     -1.0\n",
            "189    Se queda en negro al querer entrar        0.0  0.0     -1.0     -1.0\n",
            "1976                          son lindos!        2.0 -1.0     -1.0     -1.0\n",
            "\n",
            " ------------------------- \n",
            "\n",
            "<class 'pandas.core.frame.DataFrame'>\n",
            "Int64Index: 2150 entries, 2094 to 1352\n",
            "Data columns (total 5 columns):\n",
            " #   Column     Non-Null Count  Dtype  \n",
            "---  ------     --------------  -----  \n",
            " 0   Content    2150 non-null   object \n",
            " 1   Sentiment  2150 non-null   float64\n",
            " 2   App        2150 non-null   float64\n",
            " 3   Service    2150 non-null   float64\n",
            " 4   Support    2150 non-null   float64\n",
            "dtypes: float64(4), object(1)\n",
            "memory usage: 100.8+ KB\n",
            "None\n"
          ],
          "name": "stdout"
        }
      ]
    },
    {
      "cell_type": "code",
      "metadata": {
        "id": "OrVhC5l7UCy3",
        "outputId": "f4a1af2b-f6a0-4752-a627-4b9cd1d01882",
        "colab": {
          "base_uri": "https://localhost:8080/",
          "height": 372
        }
      },
      "source": [
        "def get_dataset_for_classification(df, clase, binarize=True, binval=-1, preview=False):\n",
        "    \"\"\"Returns the dataframe with its content and a specific class for posteriori classification\n",
        "    If binarize is set to True, it returns the class binabinarized_service_df.head()\n",
        "    binarized_service_df.info()rized, mapping binval to 0 and other to 1\n",
        "    \"\"\"\n",
        "\n",
        "    new_df = df[['Content', clase]].copy()\n",
        "\n",
        "    if binarize:\n",
        "        new_df[clase] = new_df[clase].apply(lambda x: 0 if x == binval else 1)\n",
        "\n",
        "    if preview:\n",
        "        print(new_df.head())\n",
        "        print('\\n', \"-\" * 40, '\\n')\n",
        "        print(new_df.info())\n",
        "\n",
        "    return new_df\n",
        "\n",
        "binarized_class_df = get_dataset_for_classification(df, TARGET_CLASS, preview=True)"
      ],
      "execution_count": 8,
      "outputs": [
        {
          "output_type": "stream",
          "text": [
            "                                  Content  Support\n",
            "Index                                             \n",
            "2094                Agilidad y protocolos        0\n",
            "474                              Exelente        0\n",
            "874       Muy buena recepcion de producto        0\n",
            "189    Se queda en negro al querer entrar        0\n",
            "1976                          son lindos!        0\n",
            "\n",
            " ---------------------------------------- \n",
            "\n",
            "<class 'pandas.core.frame.DataFrame'>\n",
            "Int64Index: 2150 entries, 2094 to 1352\n",
            "Data columns (total 2 columns):\n",
            " #   Column   Non-Null Count  Dtype \n",
            "---  ------   --------------  ----- \n",
            " 0   Content  2150 non-null   object\n",
            " 1   Support  2150 non-null   int64 \n",
            "dtypes: int64(1), object(1)\n",
            "memory usage: 50.4+ KB\n",
            "None\n"
          ],
          "name": "stdout"
        }
      ]
    },
    {
      "cell_type": "markdown",
      "metadata": {
        "id": "btA4EV_Mih0G"
      },
      "source": [
        "# Data analysis"
      ]
    },
    {
      "cell_type": "code",
      "metadata": {
        "id": "tmJY8PuKdTMI",
        "outputId": "2326f4df-4cbc-4fa2-9b5f-efc484e63c91",
        "colab": {
          "base_uri": "https://localhost:8080/",
          "height": 334
        }
      },
      "source": [
        "ax = sns.countplot(binarized_class_df[TARGET_CLASS])\n",
        "plt.xlabel(f'{TARGET_CLASS}')\n",
        "ax.set_xticklabels(['No Pertenece', 'Pertenece']);"
      ],
      "execution_count": 9,
      "outputs": [
        {
          "output_type": "stream",
          "text": [
            "/usr/local/lib/python3.6/dist-packages/seaborn/_decorators.py:43: FutureWarning: Pass the following variable as a keyword arg: x. From version 0.12, the only valid positional argument will be `data`, and passing other arguments without an explicit keyword will result in an error or misinterpretation.\n",
            "  FutureWarning\n"
          ],
          "name": "stderr"
        },
        {
          "output_type": "display_data",
          "data": {
            "image/png": "[encoded data removed]",
            "text/plain": [
              "<Figure size 432x288 with 1 Axes>"
            ]
          },
          "metadata": {
            "tags": [],
            "needs_background": "light"
          }
        }
      ]
    },
    {
      "cell_type": "markdown",
      "metadata": {
        "id": "XxnRFGfgjzfq"
      },
      "source": [
        "# Text Preprocessing"
      ]
    },
    {
      "cell_type": "code",
      "metadata": {
        "id": "prNyIlBAjJiX"
      },
      "source": [
        "tokenizer = transformers.BertTokenizer.from_pretrained(BERT_HUGGINGFACE_PRE_TRAINED_MODEL_NAME)\n",
        "\n",
        "if DOWNLOAD_MODEL:\n",
        "    # Fijarme si n ohay un downlaod folder\n",
        "    tokenizer.save_pretrained('tokenizer_state')\n",
        "    files.download('tokenizer_state/special_tokens_map.json')\n",
        "    files.download('tokenizer_state/tokenizer_config.json')\n",
        "    files.download('tokenizer_state/vocab.txt')    "
      ],
      "execution_count": 10,
      "outputs": []
    },
    {
      "cell_type": "markdown",
      "metadata": {
        "id": "NujcGX97lKKZ"
      },
      "source": [
        "# Creating Torch Dataset"
      ]
    },
    {
      "cell_type": "code",
      "metadata": {
        "id": "SGG4YMpVk3fP"
      },
      "source": [
        "class GPReviewDataset(data.Dataset):\n",
        "    \"\"\"https://pytorch.org/docs/stable/data.html#torch.utils.data.Dataset\"\"\"\n",
        "\n",
        "    def __init__(self, review, target, tokenizer, max_len):\n",
        "        self.review = review # Contenido\n",
        "        self.target = target # Clase\n",
        "        self.tokenizer = tokenizer\n",
        "        self.max_len = max_len\n",
        "\n",
        "    def __len__(self):\n",
        "        return len(self.review)\n",
        "\n",
        "    def __getitem__(self, item):\n",
        "        review = str(self.review[item])\n",
        "\n",
        "        encoding = tokenizer.encode_plus(\n",
        "            review,\n",
        "            max_length=self.max_len,\n",
        "            add_special_tokens=True,\n",
        "            padding='max_length',\n",
        "            truncation=True,\n",
        "            return_attention_mask=True,\n",
        "            return_token_type_ids=False,\n",
        "            return_tensors='pt'\n",
        "        )\n",
        "\n",
        "        return {\n",
        "            'review_text': review,\n",
        "            'input_ids': encoding['input_ids'].flatten(),\n",
        "            'attention_mask': encoding['attention_mask'].flatten(),\n",
        "            'targets': torch.tensor(self.target[item], dtype=torch.long),\n",
        "        }"
      ],
      "execution_count": 11,
      "outputs": []
    },
    {
      "cell_type": "code",
      "metadata": {
        "id": "MrykONe8laQX"
      },
      "source": [
        "df_train, df_test = train_test_split(binarized_class_df, test_size=0.2, random_state=RANDOM_SEED)\n",
        "df_val, df_test = train_test_split(binarized_class_df, test_size=0.5, random_state=RANDOM_SEED)"
      ],
      "execution_count": 12,
      "outputs": []
    },
    {
      "cell_type": "markdown",
      "metadata": {
        "id": "p_pV8auq0im0"
      },
      "source": [
        "# Data Augmentation: Word Embedding Agumenter"
      ]
    },
    {
      "cell_type": "markdown",
      "metadata": {
        "id": "8NggJWgaqCk1"
      },
      "source": [
        "Esto puede llevar como 6 minutos"
      ]
    },
    {
      "cell_type": "code",
      "metadata": {
        "id": "EdV5O_hKr2Ar"
      },
      "source": [
        "SKIP_STEP_DAWEA = False"
      ],
      "execution_count": 13,
      "outputs": []
    },
    {
      "cell_type": "code",
      "metadata": {
        "id": "ydruoGeK0iCK"
      },
      "source": [
        "def augment_df_with_nlpaug(df, content, target, aug_p=0.25, df_p=0.2, test_fun=False):\n",
        "    \"\"\"Augments the content of the dataset with similar words but retaining the target.\n",
        "    :df: Dataframe to agument\n",
        "    :content: column to agument\n",
        "    :target: column target\n",
        "    :bert_model: path to the pre trained bert model to use, default is set to hugging face transformer library\n",
        "    :aug_p: probability of changing a word\n",
        "    :df_p: probability to augment the row. 1 Augments all the dataset duplicating it.\n",
        "    returns a shuffled dataset with the new rows\n",
        "\n",
        "    https://github.com/makcedward/nlpaug/blob/master/example/textual_language_augmenter.ipynb\n",
        "    \"\"\"\n",
        "    df = df.copy()\n",
        "\n",
        "    aug = naw.WordEmbsAug(model_type='fasttext',\n",
        "                    model_path=\"fasttext-sbwc.vec\", aug_min=2, aug_p=aug_p, aug_max=35)\n",
        "\n",
        "\n",
        "    for _, row in tqdm(df.iterrows()):\n",
        "        if test_fun:\n",
        "            print({\n",
        "                content: aug.augment(row[content]),\n",
        "                # Capaz a esto se le puede agregar algo que lo lleve al infinitivo\n",
        "                target: row[target]\n",
        "            })\n",
        "            break\n",
        "        if np.random.random() < df_p: \n",
        "            df = df.append({\n",
        "                content: aug.augment(row[content]),\n",
        "                target: row[target]\n",
        "            }, ignore_index=True)\n",
        "\n",
        "    return shuffle(df)"
      ],
      "execution_count": 14,
      "outputs": []
    },
    {
      "cell_type": "code",
      "metadata": {
        "id": "8MoTb4QX4jJq",
        "outputId": "e5b31403-c37d-4f3f-94aa-8233c389b3bd",
        "colab": {
          "base_uri": "https://localhost:8080/",
          "height": 34
        }
      },
      "source": [
        "if not SKIP_STEP_DAWEA:\n",
        "    df_train = augment_df_with_nlpaug(\n",
        "        df_train,\n",
        "        content='Content',\n",
        "        target=TARGET_CLASS,\n",
        "        test_fun=False # True, devuelve el primer comentario del df augmentado para poder observar\n",
        "        )"
      ],
      "execution_count": 15,
      "outputs": [
        {
          "output_type": "stream",
          "text": [
            "1720it [05:49,  4.92it/s]\n"
          ],
          "name": "stderr"
        }
      ]
    },
    {
      "cell_type": "markdown",
      "metadata": {
        "id": "_PuLG7gKeDoQ"
      },
      "source": [
        "# Data Augmentation: Concatenate Comments"
      ]
    },
    {
      "cell_type": "markdown",
      "metadata": {
        "id": "uoHLuhdDidFl"
      },
      "source": [
        "La idea que puede servir para augmentar es concatenar comentarios de clases distintas para que el modelo entienda que cuando un comentario habla de muchas clases, tambien pertenece a la que uno esta analizando"
      ]
    },
    {
      "cell_type": "markdown",
      "metadata": {
        "id": "Yq6a6gbak_1w"
      },
      "source": [
        "Si estamos teniendo en cuenta el sentimiento es MUY importante que no hagamos este step de pre procesamiento porque podria concatenar comentarios positivos y negativos de la misma clase y pifiarla heavy"
      ]
    },
    {
      "cell_type": "code",
      "metadata": {
        "id": "I21cQOxyq2zf"
      },
      "source": [
        "SKIP_STEP_DACC = False"
      ],
      "execution_count": 16,
      "outputs": []
    },
    {
      "cell_type": "code",
      "metadata": {
        "id": "ZA6jfacVizYa"
      },
      "source": [
        "def random_comment_concat(df, target, nanval=0, concat_prob=0.3, test_fun=False):\n",
        "    df = df.copy()\n",
        "    prev_comment = None\n",
        "    for _, row in tqdm(df.iterrows()):\n",
        "        if (np.random.random() < concat_prob and prev_comment is not None):\n",
        "            \n",
        "            if test_fun:\n",
        "                print(f'Actual comment: {row[\"Content\"]}')\n",
        "                print(f'Previous comment: {prev_comment}')\n",
        "            \n",
        "            new_comment = row['Content'] + ' ' + prev_comment\n",
        "            \n",
        "            if test_fun:\n",
        "                print(f'New comment: {new_comment}')\n",
        "                print()\n",
        "                print(f'Actual target: {row[target]}')\n",
        "                print(f'Previous target: {prev_target}')\n",
        "                print(f'New target: {row[target] or prev_target}')\n",
        "                break\n",
        "            \n",
        "            df = df.append({\n",
        "                'Content': new_comment,\n",
        "                target: row[target] or prev_target\n",
        "            }, ignore_index=True)\n",
        "\n",
        "        prev_comment = row['Content']\n",
        "        prev_target = row[target]\n",
        "\n",
        "    return shuffle(df)"
      ],
      "execution_count": 17,
      "outputs": []
    },
    {
      "cell_type": "code",
      "metadata": {
        "id": "lIU_QV60l3j1",
        "outputId": "5f630776-d075-4673-95c5-8ee1c4e71b3c",
        "colab": {
          "base_uri": "https://localhost:8080/",
          "height": 34
        }
      },
      "source": [
        "if not SKIP_STEP_DACC:\n",
        "    df_train = random_comment_concat(df_train, target=TARGET_CLASS, test_fun=False)"
      ],
      "execution_count": 18,
      "outputs": [
        {
          "output_type": "stream",
          "text": [
            "2094it [00:01, 1200.61it/s]\n"
          ],
          "name": "stderr"
        }
      ]
    },
    {
      "cell_type": "markdown",
      "metadata": {
        "id": "SIH-b2M9j9Hg"
      },
      "source": [
        "# Shapes"
      ]
    },
    {
      "cell_type": "code",
      "metadata": {
        "id": "Dp3B9snwmCd-",
        "outputId": "7cee0dfc-80bb-4fd6-8e39-dcfc9b198afc",
        "colab": {
          "base_uri": "https://localhost:8080/",
          "height": 34
        }
      },
      "source": [
        "df_train.shape, df_val.shape, df_test.shape"
      ],
      "execution_count": 19,
      "outputs": [
        {
          "output_type": "execute_result",
          "data": {
            "text/plain": [
              "((2734, 2), (1075, 2), (1075, 2))"
            ]
          },
          "metadata": {
            "tags": []
          },
          "execution_count": 19
        }
      ]
    },
    {
      "cell_type": "markdown",
      "metadata": {
        "id": "S1Coz8Qkd9-v"
      },
      "source": [
        "# Create Data Loader"
      ]
    },
    {
      "cell_type": "code",
      "metadata": {
        "id": "YiDN4ZbxmNAw",
        "outputId": "278cfd12-c341-4679-f74c-fb12cdcbca9c",
        "colab": {
          "base_uri": "https://localhost:8080/",
          "height": 372
        }
      },
      "source": [
        "def create_data_loader(df, tokenizer, max_len, batch_size):\n",
        "    ds = GPReviewDataset(\n",
        "        review=df['Content'].to_numpy(),\n",
        "        target=df[TARGET_CLASS].to_numpy(),\n",
        "        tokenizer=tokenizer,\n",
        "        max_len=max_len\n",
        "    )\n",
        "\n",
        "    return data.DataLoader(\n",
        "        ds,\n",
        "        batch_size=batch_size,\n",
        "        num_workers=4\n",
        "    )\n",
        "\n",
        "train_data_loader = create_data_loader(df_train, tokenizer, MAX_LEN, BATCH_SIZE)\n",
        "val_data_loader = create_data_loader(df_val, tokenizer, MAX_LEN, BATCH_SIZE)\n",
        "test_data_loader = create_data_loader(df_test, tokenizer, MAX_LEN, BATCH_SIZE)\n",
        "\n",
        "print(len(val_data_loader) * BATCH_SIZE)\n",
        "print(len(df_val[TARGET_CLASS]))\n",
        "\n",
        "data_batch = next(iter(train_data_loader)) # Returns a batch\n",
        "print(\"BATCH CHECK\")\n",
        "print(\"-\" * 40)\n",
        "print(\"Batch keys:\")\n",
        "print(data_batch.keys())\n",
        "print(\"-\" * 40)\n",
        "print(\"Batch input\")\n",
        "print(data_batch['input_ids'])\n",
        "print(\"-\" * 40)\n",
        "print(\"Batch Targets\")\n",
        "print(data_batch['targets'])"
      ],
      "execution_count": 20,
      "outputs": [
        {
          "output_type": "stream",
          "text": [
            "1088\n",
            "1075\n",
            "BATCH CHECK\n",
            "----------------------------------------\n",
            "Batch keys:\n",
            "dict_keys(['review_text', 'input_ids', 'attention_mask', 'targets'])\n",
            "----------------------------------------\n",
            "Batch input\n",
            "tensor([[    4,  5869,  2799,  ...,     1,     1,     1],\n",
            "        [    4,  1125,  1058,  ...,     1,     1,     1],\n",
            "        [    4,  1339, 18545,  ...,  1084,  1240,     5],\n",
            "        ...,\n",
            "        [    4, 22330,  1036,  ...,     1,     1,     1],\n",
            "        [    4,  1552, 11072,  ...,     1,     1,     1],\n",
            "        [    4,  3624,  1040,  ...,     1,     1,     1]])\n",
            "----------------------------------------\n",
            "Batch Targets\n",
            "tensor([0, 0, 1, 0, 0, 0, 0, 0, 0, 0, 0, 0, 0, 0, 0, 0, 0, 0, 0, 0, 0, 0, 0, 0,\n",
            "        0, 0, 0, 0, 0, 0, 0, 0, 0, 1, 0, 1, 0, 0, 0, 0, 0, 0, 0, 0, 0, 0, 0, 1,\n",
            "        0, 0, 0, 0, 0, 0, 0, 1, 0, 1, 0, 0, 0, 0, 0, 0])\n"
          ],
          "name": "stdout"
        }
      ]
    },
    {
      "cell_type": "markdown",
      "metadata": {
        "id": "zptl8YOXn50l"
      },
      "source": [
        "# Building Classifier"
      ]
    },
    {
      "cell_type": "code",
      "metadata": {
        "id": "WuhsU6VJn2yi"
      },
      "source": [
        "class ReviewClassifier(nn.Module):\n",
        "\n",
        "    def __init__(self, n_classes):\n",
        "        super(ReviewClassifier, self).__init__()\n",
        "        self.bert = transformers.BertModel.from_pretrained(BERT_HUGGINGFACE_PRE_TRAINED_MODEL_NAME)\n",
        "        self.drop = nn.Dropout(p=0.3)\n",
        "        self.out = nn.Linear(self.bert.config.hidden_size, n_classes) # = Dense en keras\n",
        "        self.sigmoid = nn.Sigmoid()\n",
        "\n",
        "    def forward(self, input_ids, attention_mask):\n",
        "        _, pooled_output = self.bert(\n",
        "            input_ids=input_ids,\n",
        "            attention_mask=attention_mask\n",
        "        )\n",
        "        output = self.drop(pooled_output)\n",
        "\n",
        "        return self.sigmoid(self.out(output))"
      ],
      "execution_count": 21,
      "outputs": []
    },
    {
      "cell_type": "code",
      "metadata": {
        "id": "mftlA4GCoZKp",
        "outputId": "a2f8f95b-a497-410c-b2d1-cac8c2c04142",
        "colab": {
          "base_uri": "https://localhost:8080/",
          "height": 1000
        }
      },
      "source": [
        "BINARY = 1\n",
        "model = ReviewClassifier(BINARY)\n",
        "model = model.to(device)\n",
        "print(model)"
      ],
      "execution_count": 22,
      "outputs": [
        {
          "output_type": "stream",
          "text": [
            "ReviewClassifier(\n",
            "  (bert): BertModel(\n",
            "    (embeddings): BertEmbeddings(\n",
            "      (word_embeddings): Embedding(31002, 768, padding_idx=1)\n",
            "      (position_embeddings): Embedding(512, 768)\n",
            "      (token_type_embeddings): Embedding(2, 768)\n",
            "      (LayerNorm): LayerNorm((768,), eps=1e-12, elementwise_affine=True)\n",
            "      (dropout): Dropout(p=0.1, inplace=False)\n",
            "    )\n",
            "    (encoder): BertEncoder(\n",
            "      (layer): ModuleList(\n",
            "        (0): BertLayer(\n",
            "          (attention): BertAttention(\n",
            "            (self): BertSelfAttention(\n",
            "              (query): Linear(in_features=768, out_features=768, bias=True)\n",
            "              (key): Linear(in_features=768, out_features=768, bias=True)\n",
            "              (value): Linear(in_features=768, out_features=768, bias=True)\n",
            "              (dropout): Dropout(p=0.1, inplace=False)\n",
            "            )\n",
            "            (output): BertSelfOutput(\n",
            "              (dense): Linear(in_features=768, out_features=768, bias=True)\n",
            "              (LayerNorm): LayerNorm((768,), eps=1e-12, elementwise_affine=True)\n",
            "              (dropout): Dropout(p=0.1, inplace=False)\n",
            "            )\n",
            "          )\n",
            "          (intermediate): BertIntermediate(\n",
            "            (dense): Linear(in_features=768, out_features=3072, bias=True)\n",
            "          )\n",
            "          (output): BertOutput(\n",
            "            (dense): Linear(in_features=3072, out_features=768, bias=True)\n",
            "            (LayerNorm): LayerNorm((768,), eps=1e-12, elementwise_affine=True)\n",
            "            (dropout): Dropout(p=0.1, inplace=False)\n",
            "          )\n",
            "        )\n",
            "        (1): BertLayer(\n",
            "          (attention): BertAttention(\n",
            "            (self): BertSelfAttention(\n",
            "              (query): Linear(in_features=768, out_features=768, bias=True)\n",
            "              (key): Linear(in_features=768, out_features=768, bias=True)\n",
            "              (value): Linear(in_features=768, out_features=768, bias=True)\n",
            "              (dropout): Dropout(p=0.1, inplace=False)\n",
            "            )\n",
            "            (output): BertSelfOutput(\n",
            "              (dense): Linear(in_features=768, out_features=768, bias=True)\n",
            "              (LayerNorm): LayerNorm((768,), eps=1e-12, elementwise_affine=True)\n",
            "              (dropout): Dropout(p=0.1, inplace=False)\n",
            "            )\n",
            "          )\n",
            "          (intermediate): BertIntermediate(\n",
            "            (dense): Linear(in_features=768, out_features=3072, bias=True)\n",
            "          )\n",
            "          (output): BertOutput(\n",
            "            (dense): Linear(in_features=3072, out_features=768, bias=True)\n",
            "            (LayerNorm): LayerNorm((768,), eps=1e-12, elementwise_affine=True)\n",
            "            (dropout): Dropout(p=0.1, inplace=False)\n",
            "          )\n",
            "        )\n",
            "        (2): BertLayer(\n",
            "          (attention): BertAttention(\n",
            "            (self): BertSelfAttention(\n",
            "              (query): Linear(in_features=768, out_features=768, bias=True)\n",
            "              (key): Linear(in_features=768, out_features=768, bias=True)\n",
            "              (value): Linear(in_features=768, out_features=768, bias=True)\n",
            "              (dropout): Dropout(p=0.1, inplace=False)\n",
            "            )\n",
            "            (output): BertSelfOutput(\n",
            "              (dense): Linear(in_features=768, out_features=768, bias=True)\n",
            "              (LayerNorm): LayerNorm((768,), eps=1e-12, elementwise_affine=True)\n",
            "              (dropout): Dropout(p=0.1, inplace=False)\n",
            "            )\n",
            "          )\n",
            "          (intermediate): BertIntermediate(\n",
            "            (dense): Linear(in_features=768, out_features=3072, bias=True)\n",
            "          )\n",
            "          (output): BertOutput(\n",
            "            (dense): Linear(in_features=3072, out_features=768, bias=True)\n",
            "            (LayerNorm): LayerNorm((768,), eps=1e-12, elementwise_affine=True)\n",
            "            (dropout): Dropout(p=0.1, inplace=False)\n",
            "          )\n",
            "        )\n",
            "        (3): BertLayer(\n",
            "          (attention): BertAttention(\n",
            "            (self): BertSelfAttention(\n",
            "              (query): Linear(in_features=768, out_features=768, bias=True)\n",
            "              (key): Linear(in_features=768, out_features=768, bias=True)\n",
            "              (value): Linear(in_features=768, out_features=768, bias=True)\n",
            "              (dropout): Dropout(p=0.1, inplace=False)\n",
            "            )\n",
            "            (output): BertSelfOutput(\n",
            "              (dense): Linear(in_features=768, out_features=768, bias=True)\n",
            "              (LayerNorm): LayerNorm((768,), eps=1e-12, elementwise_affine=True)\n",
            "              (dropout): Dropout(p=0.1, inplace=False)\n",
            "            )\n",
            "          )\n",
            "          (intermediate): BertIntermediate(\n",
            "            (dense): Linear(in_features=768, out_features=3072, bias=True)\n",
            "          )\n",
            "          (output): BertOutput(\n",
            "            (dense): Linear(in_features=3072, out_features=768, bias=True)\n",
            "            (LayerNorm): LayerNorm((768,), eps=1e-12, elementwise_affine=True)\n",
            "            (dropout): Dropout(p=0.1, inplace=False)\n",
            "          )\n",
            "        )\n",
            "        (4): BertLayer(\n",
            "          (attention): BertAttention(\n",
            "            (self): BertSelfAttention(\n",
            "              (query): Linear(in_features=768, out_features=768, bias=True)\n",
            "              (key): Linear(in_features=768, out_features=768, bias=True)\n",
            "              (value): Linear(in_features=768, out_features=768, bias=True)\n",
            "              (dropout): Dropout(p=0.1, inplace=False)\n",
            "            )\n",
            "            (output): BertSelfOutput(\n",
            "              (dense): Linear(in_features=768, out_features=768, bias=True)\n",
            "              (LayerNorm): LayerNorm((768,), eps=1e-12, elementwise_affine=True)\n",
            "              (dropout): Dropout(p=0.1, inplace=False)\n",
            "            )\n",
            "          )\n",
            "          (intermediate): BertIntermediate(\n",
            "            (dense): Linear(in_features=768, out_features=3072, bias=True)\n",
            "          )\n",
            "          (output): BertOutput(\n",
            "            (dense): Linear(in_features=3072, out_features=768, bias=True)\n",
            "            (LayerNorm): LayerNorm((768,), eps=1e-12, elementwise_affine=True)\n",
            "            (dropout): Dropout(p=0.1, inplace=False)\n",
            "          )\n",
            "        )\n",
            "        (5): BertLayer(\n",
            "          (attention): BertAttention(\n",
            "            (self): BertSelfAttention(\n",
            "              (query): Linear(in_features=768, out_features=768, bias=True)\n",
            "              (key): Linear(in_features=768, out_features=768, bias=True)\n",
            "              (value): Linear(in_features=768, out_features=768, bias=True)\n",
            "              (dropout): Dropout(p=0.1, inplace=False)\n",
            "            )\n",
            "            (output): BertSelfOutput(\n",
            "              (dense): Linear(in_features=768, out_features=768, bias=True)\n",
            "              (LayerNorm): LayerNorm((768,), eps=1e-12, elementwise_affine=True)\n",
            "              (dropout): Dropout(p=0.1, inplace=False)\n",
            "            )\n",
            "          )\n",
            "          (intermediate): BertIntermediate(\n",
            "            (dense): Linear(in_features=768, out_features=3072, bias=True)\n",
            "          )\n",
            "          (output): BertOutput(\n",
            "            (dense): Linear(in_features=3072, out_features=768, bias=True)\n",
            "            (LayerNorm): LayerNorm((768,), eps=1e-12, elementwise_affine=True)\n",
            "            (dropout): Dropout(p=0.1, inplace=False)\n",
            "          )\n",
            "        )\n",
            "        (6): BertLayer(\n",
            "          (attention): BertAttention(\n",
            "            (self): BertSelfAttention(\n",
            "              (query): Linear(in_features=768, out_features=768, bias=True)\n",
            "              (key): Linear(in_features=768, out_features=768, bias=True)\n",
            "              (value): Linear(in_features=768, out_features=768, bias=True)\n",
            "              (dropout): Dropout(p=0.1, inplace=False)\n",
            "            )\n",
            "            (output): BertSelfOutput(\n",
            "              (dense): Linear(in_features=768, out_features=768, bias=True)\n",
            "              (LayerNorm): LayerNorm((768,), eps=1e-12, elementwise_affine=True)\n",
            "              (dropout): Dropout(p=0.1, inplace=False)\n",
            "            )\n",
            "          )\n",
            "          (intermediate): BertIntermediate(\n",
            "            (dense): Linear(in_features=768, out_features=3072, bias=True)\n",
            "          )\n",
            "          (output): BertOutput(\n",
            "            (dense): Linear(in_features=3072, out_features=768, bias=True)\n",
            "            (LayerNorm): LayerNorm((768,), eps=1e-12, elementwise_affine=True)\n",
            "            (dropout): Dropout(p=0.1, inplace=False)\n",
            "          )\n",
            "        )\n",
            "        (7): BertLayer(\n",
            "          (attention): BertAttention(\n",
            "            (self): BertSelfAttention(\n",
            "              (query): Linear(in_features=768, out_features=768, bias=True)\n",
            "              (key): Linear(in_features=768, out_features=768, bias=True)\n",
            "              (value): Linear(in_features=768, out_features=768, bias=True)\n",
            "              (dropout): Dropout(p=0.1, inplace=False)\n",
            "            )\n",
            "            (output): BertSelfOutput(\n",
            "              (dense): Linear(in_features=768, out_features=768, bias=True)\n",
            "              (LayerNorm): LayerNorm((768,), eps=1e-12, elementwise_affine=True)\n",
            "              (dropout): Dropout(p=0.1, inplace=False)\n",
            "            )\n",
            "          )\n",
            "          (intermediate): BertIntermediate(\n",
            "            (dense): Linear(in_features=768, out_features=3072, bias=True)\n",
            "          )\n",
            "          (output): BertOutput(\n",
            "            (dense): Linear(in_features=3072, out_features=768, bias=True)\n",
            "            (LayerNorm): LayerNorm((768,), eps=1e-12, elementwise_affine=True)\n",
            "            (dropout): Dropout(p=0.1, inplace=False)\n",
            "          )\n",
            "        )\n",
            "        (8): BertLayer(\n",
            "          (attention): BertAttention(\n",
            "            (self): BertSelfAttention(\n",
            "              (query): Linear(in_features=768, out_features=768, bias=True)\n",
            "              (key): Linear(in_features=768, out_features=768, bias=True)\n",
            "              (value): Linear(in_features=768, out_features=768, bias=True)\n",
            "              (dropout): Dropout(p=0.1, inplace=False)\n",
            "            )\n",
            "            (output): BertSelfOutput(\n",
            "              (dense): Linear(in_features=768, out_features=768, bias=True)\n",
            "              (LayerNorm): LayerNorm((768,), eps=1e-12, elementwise_affine=True)\n",
            "              (dropout): Dropout(p=0.1, inplace=False)\n",
            "            )\n",
            "          )\n",
            "          (intermediate): BertIntermediate(\n",
            "            (dense): Linear(in_features=768, out_features=3072, bias=True)\n",
            "          )\n",
            "          (output): BertOutput(\n",
            "            (dense): Linear(in_features=3072, out_features=768, bias=True)\n",
            "            (LayerNorm): LayerNorm((768,), eps=1e-12, elementwise_affine=True)\n",
            "            (dropout): Dropout(p=0.1, inplace=False)\n",
            "          )\n",
            "        )\n",
            "        (9): BertLayer(\n",
            "          (attention): BertAttention(\n",
            "            (self): BertSelfAttention(\n",
            "              (query): Linear(in_features=768, out_features=768, bias=True)\n",
            "              (key): Linear(in_features=768, out_features=768, bias=True)\n",
            "              (value): Linear(in_features=768, out_features=768, bias=True)\n",
            "              (dropout): Dropout(p=0.1, inplace=False)\n",
            "            )\n",
            "            (output): BertSelfOutput(\n",
            "              (dense): Linear(in_features=768, out_features=768, bias=True)\n",
            "              (LayerNorm): LayerNorm((768,), eps=1e-12, elementwise_affine=True)\n",
            "              (dropout): Dropout(p=0.1, inplace=False)\n",
            "            )\n",
            "          )\n",
            "          (intermediate): BertIntermediate(\n",
            "            (dense): Linear(in_features=768, out_features=3072, bias=True)\n",
            "          )\n",
            "          (output): BertOutput(\n",
            "            (dense): Linear(in_features=3072, out_features=768, bias=True)\n",
            "            (LayerNorm): LayerNorm((768,), eps=1e-12, elementwise_affine=True)\n",
            "            (dropout): Dropout(p=0.1, inplace=False)\n",
            "          )\n",
            "        )\n",
            "        (10): BertLayer(\n",
            "          (attention): BertAttention(\n",
            "            (self): BertSelfAttention(\n",
            "              (query): Linear(in_features=768, out_features=768, bias=True)\n",
            "              (key): Linear(in_features=768, out_features=768, bias=True)\n",
            "              (value): Linear(in_features=768, out_features=768, bias=True)\n",
            "              (dropout): Dropout(p=0.1, inplace=False)\n",
            "            )\n",
            "            (output): BertSelfOutput(\n",
            "              (dense): Linear(in_features=768, out_features=768, bias=True)\n",
            "              (LayerNorm): LayerNorm((768,), eps=1e-12, elementwise_affine=True)\n",
            "              (dropout): Dropout(p=0.1, inplace=False)\n",
            "            )\n",
            "          )\n",
            "          (intermediate): BertIntermediate(\n",
            "            (dense): Linear(in_features=768, out_features=3072, bias=True)\n",
            "          )\n",
            "          (output): BertOutput(\n",
            "            (dense): Linear(in_features=3072, out_features=768, bias=True)\n",
            "            (LayerNorm): LayerNorm((768,), eps=1e-12, elementwise_affine=True)\n",
            "            (dropout): Dropout(p=0.1, inplace=False)\n",
            "          )\n",
            "        )\n",
            "        (11): BertLayer(\n",
            "          (attention): BertAttention(\n",
            "            (self): BertSelfAttention(\n",
            "              (query): Linear(in_features=768, out_features=768, bias=True)\n",
            "              (key): Linear(in_features=768, out_features=768, bias=True)\n",
            "              (value): Linear(in_features=768, out_features=768, bias=True)\n",
            "              (dropout): Dropout(p=0.1, inplace=False)\n",
            "            )\n",
            "            (output): BertSelfOutput(\n",
            "              (dense): Linear(in_features=768, out_features=768, bias=True)\n",
            "              (LayerNorm): LayerNorm((768,), eps=1e-12, elementwise_affine=True)\n",
            "              (dropout): Dropout(p=0.1, inplace=False)\n",
            "            )\n",
            "          )\n",
            "          (intermediate): BertIntermediate(\n",
            "            (dense): Linear(in_features=768, out_features=3072, bias=True)\n",
            "          )\n",
            "          (output): BertOutput(\n",
            "            (dense): Linear(in_features=3072, out_features=768, bias=True)\n",
            "            (LayerNorm): LayerNorm((768,), eps=1e-12, elementwise_affine=True)\n",
            "            (dropout): Dropout(p=0.1, inplace=False)\n",
            "          )\n",
            "        )\n",
            "      )\n",
            "    )\n",
            "    (pooler): BertPooler(\n",
            "      (dense): Linear(in_features=768, out_features=768, bias=True)\n",
            "      (activation): Tanh()\n",
            "    )\n",
            "  )\n",
            "  (drop): Dropout(p=0.3, inplace=False)\n",
            "  (out): Linear(in_features=768, out_features=1, bias=True)\n",
            "  (sigmoid): Sigmoid()\n",
            ")\n"
          ],
          "name": "stdout"
        }
      ]
    },
    {
      "cell_type": "markdown",
      "metadata": {
        "id": "smOo3_ODo3Lg"
      },
      "source": [
        "# Training"
      ]
    },
    {
      "cell_type": "code",
      "metadata": {
        "id": "yoQpM4Qdpa-8"
      },
      "source": [
        "optimizer = transformers.AdamW(model.parameters(), lr=2e-5, correct_bias=False) # based in BERT paper\n",
        "\n",
        "total_steps = len(train_data_loader) * EPOCHS # BATCH * EPOCHS\n",
        "\n",
        "scheduler = transformers.get_linear_schedule_with_warmup(\n",
        "    optimizer,\n",
        "    num_warmup_steps=0,\n",
        "    num_training_steps=total_steps\n",
        ")\n",
        "\n",
        "loss_fn = nn.BCELoss().to(device)\n",
        "loss_fn.requres_grad = True"
      ],
      "execution_count": 23,
      "outputs": []
    },
    {
      "cell_type": "code",
      "metadata": {
        "id": "fiJ1-L5qqHDK"
      },
      "source": [
        "def train_epoch(\n",
        "    model,\n",
        "    data_loader,\n",
        "    loss_fn,\n",
        "    optimizer,\n",
        "    device,\n",
        "    scheduler,\n",
        "    n_examples\n",
        "):\n",
        "    model = model.train()\n",
        "\n",
        "    losses = []\n",
        "    correct_predictions = 0\n",
        "\n",
        "    for d in tqdm(data_loader): # tqdm permite trackear visualmente el proceso\n",
        "        input_ids = d['input_ids'].to(device)\n",
        "        attention_mask = d['attention_mask'].to(device)\n",
        "        targets = d['targets'].to(device)\n",
        "\n",
        "        outputs = model(\n",
        "            input_ids=input_ids,\n",
        "            attention_mask=attention_mask\n",
        "        )\n",
        "\n",
        "        outputs = outputs.flatten() # esto es la salida de la sigmoidea\n",
        "        loss = loss_fn(outputs, targets.float())\n",
        "\n",
        "        # PREDICTIONS \n",
        "        pred = torch.round(outputs) # redondeo crudo         \n",
        "        \n",
        "        correct_predictions += torch.sum(pred == targets)\n",
        "        losses.append(loss.item())\n",
        "\n",
        "        loss.backward()\n",
        "\n",
        "        nn.utils.clip_grad_norm_(model.parameters(), max_norm=1.0) # If gradients are to large, the training is unstable, so gradient clipping fixes this\n",
        "        optimizer.step()\n",
        "        scheduler.step()\n",
        "        optimizer.zero_grad()\n",
        "\n",
        "    return correct_predictions.double() / n_examples, np.mean(losses)"
      ],
      "execution_count": 24,
      "outputs": []
    },
    {
      "cell_type": "code",
      "metadata": {
        "id": "dHEuSa1jqOVP"
      },
      "source": [
        "def eval_model(model, data_loader, loss_fn, device, n_examples):\n",
        "  model = model.eval()\n",
        "  losses = []\n",
        "  correct_predictions = 0\n",
        "  with torch.no_grad():\n",
        "    for d in tqdm(data_loader):\n",
        "        input_ids = d[\"input_ids\"].to(device)\n",
        "        attention_mask = d[\"attention_mask\"].to(device)\n",
        "        targets = d[\"targets\"].to(device)\n",
        "\n",
        "        outputs = model(\n",
        "            input_ids=input_ids,\n",
        "            attention_mask=attention_mask\n",
        "        )\n",
        "\n",
        "        outputs = outputs.flatten()\n",
        "        loss = loss_fn(outputs, targets.float())\n",
        "\n",
        "        # PREDICTIONS \n",
        "        pred = torch.round(outputs)        \n",
        "        \n",
        "        correct_predictions += torch.sum(pred == targets)\n",
        "\n",
        "        losses.append(loss.item())\n",
        "  return correct_predictions.double() / n_examples, np.mean(losses)"
      ],
      "execution_count": 25,
      "outputs": []
    },
    {
      "cell_type": "code",
      "metadata": {
        "id": "tY2iAvMsqRt3",
        "outputId": "e392b11a-2f4f-42e1-9843-8583bcbeb1e4",
        "colab": {
          "base_uri": "https://localhost:8080/",
          "height": 834
        }
      },
      "source": [
        "%%time\n",
        "\n",
        "history = defaultdict(list)\n",
        "best_accuracy = 0\n",
        "\n",
        "for epoch in range(EPOCHS):\n",
        "\n",
        "    print()\n",
        "    print()\n",
        "    print(f'Epoch {epoch + 1}/{EPOCHS}')\n",
        "    print('-' * 10)\n",
        "    print()\n",
        "\n",
        "    train_acc, train_loss = train_epoch(\n",
        "        model,\n",
        "        train_data_loader,\n",
        "        loss_fn,\n",
        "        optimizer,\n",
        "        device,\n",
        "        scheduler,\n",
        "        len(train_data_loader) * BATCH_SIZE\n",
        "    )\n",
        "\n",
        "    val_acc, val_loss = eval_model(\n",
        "        model,\n",
        "        val_data_loader,\n",
        "        loss_fn,\n",
        "        device,\n",
        "        len(val_data_loader) * BATCH_SIZE\n",
        "    )\n",
        "\n",
        "    print()\n",
        "    print(f'Train   loss {train_loss} accuracy {train_acc}')\n",
        "    print(f'Val     loss {val_loss} accuracy {val_acc}')\n",
        "    print()\n",
        "\n",
        "    history['train_acc'].append(train_acc)\n",
        "    history['train_loss'].append(train_loss)\n",
        "\n",
        "    if val_acc > best_accuracy:\n",
        "        torch.save(model.state_dict(), f'{TARGET_CLASS}_model.bin')\n",
        "        best_accuracy = val_acc"
      ],
      "execution_count": 26,
      "outputs": [
        {
          "output_type": "stream",
          "text": [
            "\r  0%|          | 0/43 [00:00<?, ?it/s]"
          ],
          "name": "stderr"
        },
        {
          "output_type": "stream",
          "text": [
            "\n",
            "\n",
            "Epoch 1/4\n",
            "----------\n",
            "\n"
          ],
          "name": "stdout"
        },
        {
          "output_type": "stream",
          "text": [
            "100%|██████████| 43/43 [00:30<00:00,  1.43it/s]\n",
            "100%|██████████| 17/17 [00:04<00:00,  3.69it/s]\n"
          ],
          "name": "stderr"
        },
        {
          "output_type": "stream",
          "text": [
            "\n",
            "Train   loss 0.284825399777917 accuracy 0.8873546511627907\n",
            "Val     loss 0.11767029039123479 accuracy 0.9411764705882353\n",
            "\n"
          ],
          "name": "stdout"
        },
        {
          "output_type": "stream",
          "text": [
            "\r  0%|          | 0/43 [00:00<?, ?it/s]"
          ],
          "name": "stderr"
        },
        {
          "output_type": "stream",
          "text": [
            "\n",
            "\n",
            "Epoch 2/4\n",
            "----------\n",
            "\n"
          ],
          "name": "stdout"
        },
        {
          "output_type": "stream",
          "text": [
            "100%|██████████| 43/43 [00:30<00:00,  1.41it/s]\n",
            "100%|██████████| 17/17 [00:04<00:00,  3.60it/s]\n"
          ],
          "name": "stderr"
        },
        {
          "output_type": "stream",
          "text": [
            "\n",
            "Train   loss 0.10927284127751062 accuracy 0.9553052325581395\n",
            "Val     loss 0.05982332895783817 accuracy 0.9650735294117647\n",
            "\n"
          ],
          "name": "stdout"
        },
        {
          "output_type": "stream",
          "text": [
            "\r  0%|          | 0/43 [00:00<?, ?it/s]"
          ],
          "name": "stderr"
        },
        {
          "output_type": "stream",
          "text": [
            "\n",
            "\n",
            "Epoch 3/4\n",
            "----------\n",
            "\n"
          ],
          "name": "stdout"
        },
        {
          "output_type": "stream",
          "text": [
            "100%|██████████| 43/43 [00:31<00:00,  1.38it/s]\n",
            "100%|██████████| 17/17 [00:04<00:00,  3.58it/s]\n"
          ],
          "name": "stderr"
        },
        {
          "output_type": "stream",
          "text": [
            "\n",
            "Train   loss 0.031648536721720945 accuracy 0.9832848837209303\n",
            "Val     loss 0.009076046127387705 accuracy 0.9852941176470588\n",
            "\n"
          ],
          "name": "stdout"
        },
        {
          "output_type": "stream",
          "text": [
            "\r  0%|          | 0/43 [00:00<?, ?it/s]"
          ],
          "name": "stderr"
        },
        {
          "output_type": "stream",
          "text": [
            "\n",
            "\n",
            "Epoch 4/4\n",
            "----------\n",
            "\n"
          ],
          "name": "stdout"
        },
        {
          "output_type": "stream",
          "text": [
            "100%|██████████| 43/43 [00:31<00:00,  1.37it/s]\n",
            "100%|██████████| 17/17 [00:04<00:00,  3.66it/s]\n"
          ],
          "name": "stderr"
        },
        {
          "output_type": "stream",
          "text": [
            "\n",
            "Train   loss 0.012160231294327004 accuracy 0.9905523255813954\n",
            "Val     loss 0.005913445185048177 accuracy 0.9862132352941176\n",
            "\n",
            "CPU times: user 1min 21s, sys: 1min, total: 2min 22s\n",
            "Wall time: 2min 28s\n"
          ],
          "name": "stdout"
        }
      ]
    },
    {
      "cell_type": "markdown",
      "metadata": {
        "id": "OStTk-FwwMHm"
      },
      "source": [
        "Download del modelo, aprox 450 MB tarda 14 min"
      ]
    },
    {
      "cell_type": "code",
      "metadata": {
        "id": "yzsExYXTphKp"
      },
      "source": [
        "if DOWNLOAD_MODEL:\n",
        "    files.download(f'{TARGET_CLASS}_model.bin')"
      ],
      "execution_count": 27,
      "outputs": []
    },
    {
      "cell_type": "markdown",
      "metadata": {
        "id": "G_Z0tmBK_SdT"
      },
      "source": [
        "# Evaluation"
      ]
    },
    {
      "cell_type": "code",
      "metadata": {
        "id": "SAhiZWl55wfI"
      },
      "source": [
        "def get_reviews(model, data_loader):\n",
        "    model = model.eval()\n",
        "\n",
        "    review_texts = []\n",
        "    predictions = []\n",
        "    prediction_probs = []\n",
        "    real_values = []\n",
        "\n",
        "    with torch.no_grad():\n",
        "        for d in data_loader:\n",
        "\n",
        "            texts = d['review_text']\n",
        "            input_ids = d['input_ids'].to(device)\n",
        "            attention_mask = d['attention_mask'].to(device)\n",
        "            targets = d['targets'].to(device)\n",
        "\n",
        "            outputs = model(\n",
        "                input_ids=input_ids,\n",
        "                attention_mask=attention_mask\n",
        "            )\n",
        "\n",
        "            preds = torch.round(outputs)\n",
        "            \n",
        "            review_texts.extend(texts)\n",
        "            predictions.extend(preds)\n",
        "            prediction_probs.extend(outputs)\n",
        "            real_values.extend(targets)\n",
        "\n",
        "    predictions = torch.stack(predictions).cpu()\n",
        "    prediction_probs = torch.stack(prediction_probs).cpu()\n",
        "    real_values = torch.stack(real_values).cpu()\n",
        "\n",
        "    return review_texts, predictions, prediction_probs, real_values"
      ],
      "execution_count": 28,
      "outputs": []
    },
    {
      "cell_type": "code",
      "metadata": {
        "id": "cNw8q5-V_abg"
      },
      "source": [
        "model = ReviewClassifier(BINARY)\n",
        "model.load_state_dict(torch.load(f'{TARGET_CLASS}_model.bin'))\n",
        "model = model.to(device)"
      ],
      "execution_count": 29,
      "outputs": []
    },
    {
      "cell_type": "code",
      "metadata": {
        "id": "JyI0iCs9_eh6",
        "outputId": "ea394c5b-5425-48dd-f1bb-416a6ef7544e",
        "colab": {
          "base_uri": "https://localhost:8080/",
          "height": 34
        }
      },
      "source": [
        "test_acc, test_loss = eval_model(model, test_data_loader, loss_fn, device, len(df_test))"
      ],
      "execution_count": 30,
      "outputs": [
        {
          "output_type": "stream",
          "text": [
            "100%|██████████| 17/17 [00:04<00:00,  3.52it/s]\n"
          ],
          "name": "stderr"
        }
      ]
    },
    {
      "cell_type": "code",
      "metadata": {
        "id": "xREGEEMY_5Ja",
        "outputId": "fcc17342-8403-4431-c389-f875adb18621",
        "colab": {
          "base_uri": "https://localhost:8080/",
          "height": 34
        }
      },
      "source": [
        "print(test_acc)"
      ],
      "execution_count": 31,
      "outputs": [
        {
          "output_type": "stream",
          "text": [
            "tensor(0.9693, device='cuda:0', dtype=torch.float64)\n"
          ],
          "name": "stdout"
        }
      ]
    },
    {
      "cell_type": "code",
      "metadata": {
        "id": "a2O7xqZ__kEZ"
      },
      "source": [
        "y_review_texts, y_pred, y_pred_probs, y_test = get_reviews(model, test_data_loader)"
      ],
      "execution_count": 32,
      "outputs": []
    },
    {
      "cell_type": "code",
      "metadata": {
        "id": "HyCwZfeY_qlf",
        "outputId": "0eb73c4f-8996-4977-d8cf-e749788b197a",
        "colab": {
          "base_uri": "https://localhost:8080/",
          "height": 176
        }
      },
      "source": [
        "print(classification_report(y_test, y_pred, target_names=[f'Not {TARGET_CLASS}', f'{TARGET_CLASS}']))"
      ],
      "execution_count": 33,
      "outputs": [
        {
          "output_type": "stream",
          "text": [
            "              precision    recall  f1-score   support\n",
            "\n",
            " Not Support       0.99      0.98      0.98       996\n",
            "     Support       0.77      0.82      0.80        79\n",
            "\n",
            "    accuracy                           0.97      1075\n",
            "   macro avg       0.88      0.90      0.89      1075\n",
            "weighted avg       0.97      0.97      0.97      1075\n",
            "\n"
          ],
          "name": "stdout"
        }
      ]
    },
    {
      "cell_type": "code",
      "metadata": {
        "id": "G3nj9LCp_s8A"
      },
      "source": [
        "def show_confusion_matrix(confusion_matrix):\n",
        "    hmap = sns.heatmap(confusion_matrix, annot=True, fmt=\"d\", cmap=\"Blues\")\n",
        "    hmap.yaxis.set_ticklabels(hmap.yaxis.get_ticklabels(), rotation=0, ha='right')\n",
        "    hmap.xaxis.set_ticklabels(hmap.xaxis.get_ticklabels(), rotation=30, ha='right')\n",
        "    plt.ylabel('True sentiment')\n",
        "    plt.xlabel('Predicted sentiment')"
      ],
      "execution_count": 34,
      "outputs": []
    },
    {
      "cell_type": "code",
      "metadata": {
        "id": "rccxYyIPAO_i",
        "outputId": "dc5cb156-0d63-4dfc-9c7d-942489b4db03",
        "colab": {
          "base_uri": "https://localhost:8080/",
          "height": 307
        }
      },
      "source": [
        "cm = confusion_matrix(y_test, y_pred)\n",
        "df_cm = pd.DataFrame(cm, index=[f'Not {TARGET_CLASS}', f'{TARGET_CLASS}'], columns=[f'Not {TARGET_CLASS}', f'{TARGET_CLASS}'])\n",
        "show_confusion_matrix(df_cm)"
      ],
      "execution_count": 35,
      "outputs": [
        {
          "output_type": "display_data",
          "data": {
            "image/png": "[encoded data removed]",
            "text/plain": [
              "<Figure size 432x288 with 2 Axes>"
            ]
          },
          "metadata": {
            "tags": [],
            "needs_background": "light"
          }
        }
      ]
    },
    {
      "cell_type": "markdown",
      "metadata": {
        "id": "y-OzUGC7AldO"
      },
      "source": [
        "# Prueba Real"
      ]
    },
    {
      "cell_type": "code",
      "metadata": {
        "id": "-vQIukNLAmwS",
        "outputId": "7d6b2b7f-8f87-4f21-ada8-b33cd5719d5b",
        "colab": {
          "base_uri": "https://localhost:8080/",
          "height": 105
        }
      },
      "source": [
        "review_text = \"\"\"Me intente comunicar para pedir ayuda un monton de veces y nunca me pudieron dar una solucion, pesimo!\n",
        "\"\"\"\n",
        "\n",
        "# review_text = \"Atención al cliente es un curro nunca te resuelven nada\"\n",
        "\n",
        "encoded_review = tokenizer.encode_plus(\n",
        "    review_text,\n",
        "    max_length=MAX_LEN,\n",
        "    add_special_tokens=True,\n",
        "    return_token_type_ids=False,\n",
        "    padding='max_length',\n",
        "    return_attention_mask=True,\n",
        "    return_tensors='pt'\n",
        ")\n",
        "\n",
        "input_ids = encoded_review['input_ids'].to(device)\n",
        "attention_mask = encoded_review['attention_mask'].to(device)\n",
        "\n",
        "output = model(input_ids, attention_mask)\n",
        "print(f'Prediction value: {output.tolist()[0][0]}')\n",
        "prediction = torch.round(output)\n",
        "\n",
        "clases = [f'Not {TARGET_CLASS}', f'{TARGET_CLASS}']\n",
        "\n",
        "print(f'Review text: {review_text}')\n",
        "print(f'Review text length: {len(tokenizer.tokenize(review_text))}')\n",
        "print(f'Category: {clases[int(prediction.tolist()[0][0])]}')"
      ],
      "execution_count": 38,
      "outputs": [
        {
          "output_type": "stream",
          "text": [
            "Prediction value: 0.9958082437515259\n",
            "Review text: Me intente comunicar para pedir ayuda un monton de veces y nunca me pudieron dar una solucion, pesimo!\n",
            "\n",
            "Review text length: 22\n",
            "Category: Support\n"
          ],
          "name": "stdout"
        }
      ]
    },
    {
      "cell_type": "code",
      "metadata": {
        "id": "q_c279Z-DD5I"
      },
      "source": [
        ""
      ],
      "execution_count": null,
      "outputs": []
    }
  ]
}